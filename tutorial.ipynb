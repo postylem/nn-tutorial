{
 "cells": [
  {
   "cell_type": "markdown",
   "metadata": {},
   "source": [
    "# An Introduction to Neural Networks (with an application to quantifiers in natural language)"
   ]
  },
  {
   "cell_type": "markdown",
   "metadata": {},
   "source": [
    "This notebook is part of a tutorial, with accompanying slides.  We will develop a kind of _minimal working example_ of running an experiment with neural networks, inspired by work in natural language semantics.  Instructions for using this notebook may be found at https://github.com/shanest/nn-tutorial.  The slides also contain pointers to more advanced topics and applications."
   ]
  },
  {
   "cell_type": "markdown",
   "metadata": {},
   "source": [
    "In particular, we will conduct a very miniature version of one of the experiments in [Steinert-Threlkeld and Szymanik, \"Learnability and Semantic Universals\"](https://semanticsarchive.net/Archive/mQ2Y2Y2Z/LearnabilitySemanticUniversals.pdf).  In the figure below, they compare a monotone quantifier (_at least 4_) to a non-monotone one (_at least 6 or at most 2_), showing that the former is learned faster than the latter.  We will look at a similar pair of quantifiers here.\n",
    "\n",
    "![](imgs/exp1a_acc.png)"
   ]
  },
  {
   "cell_type": "markdown",
   "metadata": {},
   "source": [
    "(There are several important differences between what we will do today and what's done in the paper.  Because of time constraints, we won't do multiple trials or statistical analysis thereof, and we won't be using recurrent networks.)"
   ]
  },
  {
   "cell_type": "markdown",
   "metadata": {},
   "source": [
    "## Generalized Quantifiers"
   ]
  },
  {
   "cell_type": "markdown",
   "metadata": {},
   "source": [
    "Generalized quantifier theory provides the meanings for expressions like \"most\", \"all\", \"between 5 and 10\", etc. as they are used in sentences like\n",
    "\n",
    "(1) Most of the students are happy.\n",
    "\n",
    "(1) is true just in case the set of students who are happy outnumbers the set of students who are not happy.  Using interpretation bracket notation, where $\\mathcal{M}$ is a model:\n",
    "\n",
    "$$ [[ (1) ]]^{\\mathcal{M}} = 1 \\text{ iff } \\textsf{card}([[\\text{students}]] \\cap [[\\text{happy}]]) > \\textsf{card}([[\\text{students}]] \\setminus [[\\text{happy}]]) $$\n",
    "\n",
    "We can view the meaning of an expression like \"most\" as a function, which takes as input models of the form $\\mathcal{M} = \\langle M, A, B \\rangle$, where $A$ is the denotation of the restrictor (e.g. \"students\") and $B$ that of the nuclear scope (e.g. \"are happy\") and outputs a 1 or 0 based on the condition above.  \n",
    "\n",
    "In other words, a quantifier is a _classifier_ of models, classifying every model as 1 (True) or 0 (False)."
   ]
  },
  {
   "cell_type": "markdown",
   "metadata": {},
   "source": [
    "## Experiment"
   ]
  },
  {
   "cell_type": "markdown",
   "metadata": {},
   "source": [
    "We will build a neural network classifier and train it to _learn_ different quantifiers.  Our goal will be to qualitatively compare _monotone_ (e.g. \"most\") to _non-monotone_ (e.g. \"between 5 and 10\") quantifiers.  Please refer to the paper linked above for full definitions of these concepts."
   ]
  },
  {
   "cell_type": "markdown",
   "metadata": {},
   "source": [
    "### Encoding the Input\n",
    "\n",
    "We need a way of passing models into a neural network.  To do this, they must be represented as vectors of real numbers.  We will do this in the following way.\n",
    "\n",
    "For convenience, we will assume properties known as Extensionality (EXT) and Conservativity (CONS) (see this [survey on generalized quantifiers](https://plato.stanford.edu/entries/generalized-quantifiers/) for these and other definitions).  Together, these say that only the sets $A \\cap B$ and $A \\ B$ are relevant to the truth of a quantifier.  We can thus represent a model $\\mathcal{M}$ by encoding whether each object in $M$ belongs to $A \\cap B$ (in which case we will call it a $1$) or to $A \\setminus B$ (in which case we will call it a $0$).\n",
    "\n",
    "Thus, every model of size $n$ can be encoded as an $n$-dimensional vector of bits.  Conversely, every $n$-bit vector corresponds to a model $\\mathcal{M}$.  (Subtle caveat: this correspondence requires an enumeration of $M$.  See the above paper for discussion.)\n",
    "\n",
    "So we will consider models of a fixed size $N$, and feed our networks $N$-bit vectors.  It will output its guess as to whether the quantifier is true or false for that model."
   ]
  },
  {
   "cell_type": "markdown",
   "metadata": {},
   "source": [
    "### 0. Import Libraries"
   ]
  },
  {
   "cell_type": "code",
   "execution_count": 1,
   "metadata": {},
   "outputs": [],
   "source": [
    "import itertools\n",
    "\n",
    "import numpy as np\n",
    "import pandas as pd\n",
    "\n",
    "import torch\n",
    "import torch.nn as nn\n",
    "import torch.nn.functional as F\n",
    "\n",
    "%matplotlib inline\n",
    "from plotnine import *  # Python port of ggplot2"
   ]
  },
  {
   "cell_type": "markdown",
   "metadata": {},
   "source": [
    "### 1. Define Parameters"
   ]
  },
  {
   "cell_type": "code",
   "execution_count": 2,
   "metadata": {},
   "outputs": [],
   "source": [
    "params = {\n",
    "    'model_size': 16,  # how big our models will be\n",
    "    'num_epochs': 2,  # one epoch = one loop through the dataset\n",
    "    'batch_size': 32,  # size of one batch of training examples\n",
    "    'eval_every': 20,  # frequency of evaluations, in # of batches\n",
    "}"
   ]
  },
  {
   "cell_type": "markdown",
   "metadata": {},
   "source": [
    "Note: you will in general have more parameters when you do your experiments, and will usually want to pass these in to your program as command-line flags.  See [this repository]() for an example."
   ]
  },
  {
   "cell_type": "markdown",
   "metadata": {},
   "source": [
    "### 2. Generating the Data"
   ]
  },
  {
   "cell_type": "markdown",
   "metadata": {},
   "source": [
    "First, we can use the Python module `itertools` to quickly generate all models of a certain size."
   ]
  },
  {
   "cell_type": "code",
   "execution_count": 3,
   "metadata": {},
   "outputs": [
    {
     "data": {
      "text/plain": [
       "array([[0, 0, 0],\n",
       "       [0, 0, 1],\n",
       "       [0, 1, 0],\n",
       "       [0, 1, 1],\n",
       "       [1, 0, 0],\n",
       "       [1, 0, 1],\n",
       "       [1, 1, 0],\n",
       "       [1, 1, 1]])"
      ]
     },
     "execution_count": 3,
     "metadata": {},
     "output_type": "execute_result"
    }
   ],
   "source": [
    "def get_all_models(length):\n",
    "    \"\"\"Returns a 2-D numpy array containing as rows all bit sequences of the specified length.\"\"\"\n",
    "    return np.array(list(\n",
    "        itertools.product([0, 1], repeat=length)\n",
    "    ))\n",
    "\n",
    "get_all_models(3)"
   ]
  },
  {
   "cell_type": "markdown",
   "metadata": {},
   "source": [
    "Our quantifiers will be functions from bit-arrays to truth values."
   ]
  },
  {
   "cell_type": "code",
   "execution_count": 4,
   "metadata": {},
   "outputs": [],
   "source": [
    "def most(model):\n",
    "    return int(sum(model) > 0.5*len(model))  # integers are useful later\n",
    "\n",
    "def between_m_n(model, m, n):\n",
    "    return int(m < sum(model) < n)"
   ]
  },
  {
   "cell_type": "markdown",
   "metadata": {},
   "source": [
    "`numpy` provides a nice method `apply_along_axis` that we can use to apply a quantifier to the array of all models generated by `get_all_models`."
   ]
  },
  {
   "cell_type": "code",
   "execution_count": 5,
   "metadata": {},
   "outputs": [
    {
     "data": {
      "text/plain": [
       "array([0, 0, 0, 1, 0, 1, 1, 1])"
      ]
     },
     "execution_count": 5,
     "metadata": {},
     "output_type": "execute_result"
    }
   ],
   "source": [
    "def batch_apply(models, quantifier):\n",
    "    \"\"\"Applies quantifier function to 2-D array of models,\n",
    "    where each row corresponds to one model.\"\"\"\n",
    "    return np.apply_along_axis(quantifier, 1, models)\n",
    "\n",
    "batch_apply(get_all_models(3), most)"
   ]
  },
  {
   "cell_type": "markdown",
   "metadata": {},
   "source": [
    "Shuffling the order of data is very important.  This method applies the same shuffle to two sequences, intuitively the inputs and the outputs of a given function."
   ]
  },
  {
   "cell_type": "code",
   "execution_count": 6,
   "metadata": {},
   "outputs": [],
   "source": [
    "def shuffle_data(models, labels):\n",
    "    \"\"\"Shuffles the order of an array of models and of labels.\"\"\"\n",
    "    assert len(models) == len(labels), \"models and labels must be of same length\"\n",
    "    permutation = np.random.permutation(len(models))\n",
    "    return models[permutation], labels[permutation]"
   ]
  },
  {
   "cell_type": "markdown",
   "metadata": {},
   "source": [
    "We can put it all together: the method below takes in a model size and a quantifier function, and then generates the data, splits it into train/test sets (with a specified split percentage), shuffles it, and returns the two sets of data."
   ]
  },
  {
   "cell_type": "code",
   "execution_count": 7,
   "metadata": {},
   "outputs": [],
   "source": [
    "def get_data(model_size, quantifier, train_split=0.7, shuffle=True):\n",
    "    \"\"\"Gets training and test data for quantifier.\"\"\"\n",
    "    # get all models and labels\n",
    "    models = get_all_models(model_size)\n",
    "    labels = batch_apply(models, quantifier)\n",
    "    # shuffle them\n",
    "    if shuffle:\n",
    "        models, labels = shuffle_data(models, labels)\n",
    "    # split into train/test\n",
    "    split_index = int(len(models) * train_split)  # int returns floor / rounds down\n",
    "    train_models = models[:split_index]  # up to index, not including\n",
    "    train_labels = labels[:split_index]\n",
    "    test_models = models[split_index:]  # from index, including\n",
    "    test_labels = labels[split_index:]\n",
    "    return train_models, train_labels, test_models, test_labels"
   ]
  },
  {
   "cell_type": "code",
   "execution_count": 8,
   "metadata": {},
   "outputs": [
    {
     "data": {
      "text/plain": [
       "(array([[1, 0, 0],\n",
       "        [1, 1, 1],\n",
       "        [1, 1, 0],\n",
       "        [0, 0, 0],\n",
       "        [0, 0, 1]]), array([0, 1, 1, 0, 0]), array([[1, 0, 1],\n",
       "        [0, 1, 0],\n",
       "        [0, 1, 1]]), array([1, 0, 1]))"
      ]
     },
     "execution_count": 8,
     "metadata": {},
     "output_type": "execute_result"
    }
   ],
   "source": [
    "get_data(3, most)"
   ]
  },
  {
   "cell_type": "markdown",
   "metadata": {},
   "source": [
    "### 3. Build Model"
   ]
  },
  {
   "cell_type": "markdown",
   "metadata": {},
   "source": [
    "We will use the [PyTorch](http://pytorch.org) library for building and training neural networks.  This library -- developed at FAIR (Facebook AI Research) -- provides a very nice mix of scaffolding and flexibility, as well as great integration with basic Python control flow, which allows for rapid development of your ideas."
   ]
  },
  {
   "cell_type": "markdown",
   "metadata": {},
   "source": [
    "Models are always instances of new `class`es, which must always sub-class `nn.Module`.  By doing so, PyTorch will be able to automatically compute gradients for you, among other things.  \n",
    "\n",
    "Note the first line in `__init__`: this call to `super(...).__init__` is very important!\n",
    "\n",
    "The basic architecture of a model will be defined in the `__init__` method.  Here, we build a simple feed-forward network that has two hidden layers (`self.layer1` and `self.layer2`) and an output layer (`self.output`).\n",
    "\n",
    "The _forward pass_ of your model, i.e. the actual network computation, is then defined in the `forward` method.  Note our standard recipe: `x = F.relu(self.layer(x))`.  This encapsulates the non-linear transformation (`F.relu`) applied point-wise to a linear transformation of the inputs to a layer.\n",
    "\n",
    "Note that our `forward` method applies `softmax` at the output layer, to generate a probability distribution, as is common in classification tasks.\n",
    "\n",
    "Note that you `forward` is very flexible: you can define it with any number of arguments, and return anything you want (including tuples, non-`torch.Tensor` objects, and so on).  "
   ]
  },
  {
   "cell_type": "code",
   "execution_count": 9,
   "metadata": {},
   "outputs": [],
   "source": [
    "class FFNN(nn.Module):  # all models in PyTorch extend nn.Module\n",
    "    \n",
    "    def __init__(self, input_size, output_size):\n",
    "        super(FFNN, self).__init__()\n",
    "        \n",
    "        self.layer1 = nn.Linear(input_size, 16)  # first hidden layer has 32 units\n",
    "        self.layer2 = nn.Linear(16, 16)  # as does second\n",
    "        self.output = nn.Linear(16, output_size)\n",
    "        \n",
    "    def forward(self, models):  # note: forward can take any number of arguments\n",
    "        x = torch.as_tensor(models, dtype=torch.float)\n",
    "        x = F.relu(self.layer1(x))  # apply linear layer, then non-linear function to it\n",
    "        x = F.relu(self.layer2(x))\n",
    "        x = self.output(x)\n",
    "        return F.softmax(x, dim=1)  # softmax converts to a probability distribution"
   ]
  },
  {
   "cell_type": "markdown",
   "metadata": {},
   "source": [
    "### 4. Train Model"
   ]
  },
  {
   "cell_type": "markdown",
   "metadata": {},
   "source": [
    "Before defining a complete training loop, let's just look at the model a little bit."
   ]
  },
  {
   "cell_type": "code",
   "execution_count": 10,
   "metadata": {},
   "outputs": [],
   "source": [
    "# get the data\n",
    "train_models, train_labels, test_models, test_labels = get_data(\n",
    "    params['model_size'],\n",
    "    most\n",
    ")\n",
    "    \n",
    "# get the model\n",
    "model = FFNN(params['model_size'], 2)"
   ]
  },
  {
   "cell_type": "markdown",
   "metadata": {},
   "source": [
    "Printing the model gives a nice overview of its structure."
   ]
  },
  {
   "cell_type": "code",
   "execution_count": 11,
   "metadata": {},
   "outputs": [
    {
     "name": "stdout",
     "output_type": "stream",
     "text": [
      "FFNN(\n",
      "  (layer1): Linear(in_features=16, out_features=16, bias=True)\n",
      "  (layer2): Linear(in_features=16, out_features=16, bias=True)\n",
      "  (output): Linear(in_features=16, out_features=2, bias=True)\n",
      ")\n"
     ]
    }
   ],
   "source": [
    "print(model)"
   ]
  },
  {
   "cell_type": "markdown",
   "metadata": {},
   "source": [
    "If you call `model` on some inputs, it calls `forward` on those inputs.  Note that we are sending a 2-D array here, with the first dimension being the number of example models, and the second dimension being the size of an individual model.  The output is a distribution over True/False for each example.\n",
    "\n",
    "(While we could have had only one output node, since $p(False) = 1 - p(True)$, it's useful to treat this as a two-way classification task, to be more in line with classification tasks with more than two classes.)"
   ]
  },
  {
   "cell_type": "code",
   "execution_count": 12,
   "metadata": {},
   "outputs": [
    {
     "data": {
      "text/plain": [
       "tensor([[0.5989, 0.4011],\n",
       "        [0.5967, 0.4033],\n",
       "        [0.6054, 0.3946],\n",
       "        ...,\n",
       "        [0.5961, 0.4039],\n",
       "        [0.5956, 0.4044],\n",
       "        [0.5814, 0.4186]], grad_fn=<SoftmaxBackward>)"
      ]
     },
     "execution_count": 12,
     "metadata": {},
     "output_type": "execute_result"
    }
   ],
   "source": [
    "model(train_models)"
   ]
  },
  {
   "cell_type": "markdown",
   "metadata": {},
   "source": [
    "We can now define the main training loop!  It's relatively straight-forward: get the training and test data, build the model, loop over epochs and mini-batches, performing one update for each mini-batch.\n",
    "\n",
    "The update works like this in PyTorch: you instantiate an `optimizer`, with the parameters of your model.  Each mini-batch, you call `zero_grad` on the optimizer, in order to clear out its previous gradient computation.  After computing the loss, you can then compute all the gradients of all the parameters in the model by `loss.backward()`.  Note that here `loss` can be any `torch.Tensor` object!  Then, you simply call `opt.step()` to update the parameters!\n",
    "\n",
    "We will also record some simple data during training so that we can visualize it.  This can also give you a feel for how you can store variables of interest while training a model."
   ]
  },
  {
   "cell_type": "code",
   "execution_count": 13,
   "metadata": {},
   "outputs": [],
   "source": [
    "def train(params, quantifier, qname=None):\n",
    "    \n",
    "    # get the data\n",
    "    train_models, train_labels, test_models, test_labels = get_data(\n",
    "        params['model_size'],\n",
    "        quantifier\n",
    "    )\n",
    "    \n",
    "    # get the model\n",
    "    model = FFNN(params['model_size'], 2)  # 2 outputs: False/True\n",
    "    \n",
    "    # get an optimizer\n",
    "    opt = torch.optim.Adam(model.parameters())\n",
    "    num_batches = int(len(train_models) / params['batch_size'])\n",
    "    \n",
    "    # dataframe to record\n",
    "    data = {'training step': [], 'test accuracy': []}\n",
    "\n",
    "    for epoch in range(params['num_epochs']):\n",
    "        # shuffle the training data each epoch\n",
    "        train_models, train_labels = shuffle_data(train_models, train_labels)\n",
    "        model.train()  # for our model, this has no effect, but is good practice\n",
    "\n",
    "        # individual training steps!\n",
    "        for batch_idx in range(num_batches):\n",
    "            # batch the data\n",
    "            batch_models = train_models[batch_idx*params['batch_size']:(batch_idx+1)*params['batch_size']]\n",
    "            batch_labels = train_labels[batch_idx*params['batch_size']:(batch_idx+1)*params['batch_size']]\n",
    "\n",
    "            # get model's output\n",
    "            model_probs = model(batch_models)  # calls .forward\n",
    "\n",
    "            # zero the gradients\n",
    "            opt.zero_grad()\n",
    "            # calculate loss\n",
    "            loss = F.cross_entropy(model_probs,\n",
    "                                   torch.as_tensor(batch_labels))\n",
    "            loss.backward()  # computes the gradients!\n",
    "            opt.step()  # updates the parameters\n",
    "            \n",
    "            # get overall batch num for convenience\n",
    "            batch_num = epoch*num_batches + batch_idx + 1\n",
    "            if (batch_num + 1) % params['eval_every'] == 0:\n",
    "                with torch.no_grad():  # speeds things up\n",
    "                    model.eval()  # again, no effect on our model, but good practice\n",
    "                    model_probs = model(test_models).numpy()\n",
    "                    model_predictions = model_probs.argmax(axis=1).flatten()\n",
    "                    # 1 if correct prediction, 0 otherwise\n",
    "                    correct = (model_predictions == test_labels).astype(int)\n",
    "                    accuracy = sum(correct) / len(correct)\n",
    "                    print('Test set accuracy, after batch {}: {}'.format(\n",
    "                        batch_num+1,\n",
    "                        accuracy\n",
    "                    ))\n",
    "                    # record\n",
    "                    data['training step'].append(batch_num+1)\n",
    "                    data['test accuracy'].append(accuracy)\n",
    "                model.train()\n",
    "                \n",
    "        data = pd.DataFrame(data)\n",
    "        data['quantifier'] = qname or quantifier.__name__\n",
    "        return data"
   ]
  },
  {
   "cell_type": "code",
   "execution_count": 14,
   "metadata": {},
   "outputs": [
    {
     "name": "stdout",
     "output_type": "stream",
     "text": [
      "Test set accuracy, after batch 20: 0.5976298255429531\n",
      "Test set accuracy, after batch 40: 0.5976298255429531\n",
      "Test set accuracy, after batch 60: 0.5976298255429531\n",
      "Test set accuracy, after batch 80: 0.5976298255429531\n",
      "Test set accuracy, after batch 100: 0.5976298255429531\n",
      "Test set accuracy, after batch 120: 0.60342810640354\n",
      "Test set accuracy, after batch 140: 0.6994557753929098\n",
      "Test set accuracy, after batch 160: 0.7411627078988862\n",
      "Test set accuracy, after batch 180: 0.8118101825949849\n",
      "Test set accuracy, after batch 200: 0.8537205635522099\n",
      "Test set accuracy, after batch 220: 0.8491938355119272\n",
      "Test set accuracy, after batch 240: 0.8918162860485225\n",
      "Test set accuracy, after batch 260: 0.8908499059050913\n",
      "Test set accuracy, after batch 280: 0.9114490615940186\n",
      "Test set accuracy, after batch 300: 0.9311326992523269\n",
      "Test set accuracy, after batch 320: 0.9314378719291999\n",
      "Test set accuracy, after batch 340: 0.9565128935455979\n",
      "Test set accuracy, after batch 360: 0.9653120390621026\n",
      "Test set accuracy, after batch 380: 0.9743146330298561\n",
      "Test set accuracy, after batch 400: 0.9723818727429937\n",
      "Test set accuracy, after batch 420: 0.9784853262804537\n",
      "Test set accuracy, after batch 440: 0.980112913890443\n",
      "Test set accuracy, after batch 460: 0.9792482579726361\n",
      "Test set accuracy, after batch 480: 0.9678042825898988\n",
      "Test set accuracy, after batch 500: 0.9788413610701389\n",
      "Test set accuracy, after batch 520: 0.9776206703626469\n",
      "Test set accuracy, after batch 540: 0.990488784904125\n",
      "Test set accuracy, after batch 560: 0.9832155027719851\n",
      "Test set accuracy, after batch 580: 0.9809267076954377\n",
      "Test set accuracy, after batch 600: 0.9903870606785006\n",
      "Test set accuracy, after batch 620: 0.9895224047606938\n",
      "Test set accuracy, after batch 640: 0.9876405065866436\n",
      "Test set accuracy, after batch 660: 0.9766034281064035\n",
      "Test set accuracy, after batch 680: 0.9872336096841463\n",
      "Test set accuracy, after batch 700: 0.9899801637760033\n",
      "Test set accuracy, after batch 720: 0.9943543054778495\n",
      "Test set accuracy, after batch 740: 0.994506891816286\n",
      "Test set accuracy, after batch 760: 0.9979146533747012\n",
      "Test set accuracy, after batch 780: 0.9945577539290982\n",
      "Test set accuracy, after batch 800: 0.9898275774375668\n",
      "Test set accuracy, after batch 820: 0.9992879304206297\n",
      "Test set accuracy, after batch 840: 0.998474136615635\n",
      "Test set accuracy, after batch 860: 0.9958293067494024\n",
      "Test set accuracy, after batch 880: 0.9987284471796959\n",
      "Test set accuracy, after batch 900: 0.9992879304206297\n",
      "Test set accuracy, after batch 920: 0.9988301714053202\n",
      "Test set accuracy, after batch 940: 0.999389654646254\n",
      "Test set accuracy, after batch 960: 0.9974568943593917\n",
      "Test set accuracy, after batch 980: 0.9981181018259498\n",
      "Test set accuracy, after batch 1000: 0.999694827323127\n",
      "Test set accuracy, after batch 1020: 0.998474136615635\n",
      "Test set accuracy, after batch 1040: 0.999694827323127\n",
      "Test set accuracy, after batch 1060: 0.999084481969381\n",
      "Test set accuracy, after batch 1080: 0.9986775850668836\n",
      "Test set accuracy, after batch 1100: 0.999694827323127\n",
      "Test set accuracy, after batch 1120: 0.9991353440821932\n",
      "Test set accuracy, after batch 1140: 0.9992879304206297\n",
      "Test set accuracy, after batch 1160: 0.9995931030975027\n",
      "Test set accuracy, after batch 1180: 0.9990336198565688\n",
      "Test set accuracy, after batch 1200: 0.9994405167590662\n",
      "Test set accuracy, after batch 1220: 0.9996439652103148\n",
      "Test set accuracy, after batch 1240: 0.9999491378871879\n",
      "Test set accuracy, after batch 1260: 0.9998982757743756\n",
      "Test set accuracy, after batch 1280: 0.9997456894359392\n",
      "Test set accuracy, after batch 1300: 0.9996439652103148\n",
      "Test set accuracy, after batch 1320: 0.999694827323127\n",
      "Test set accuracy, after batch 1340: 1.0\n",
      "Test set accuracy, after batch 1360: 0.9998982757743756\n",
      "Test set accuracy, after batch 1380: 1.0\n",
      "Test set accuracy, after batch 1400: 0.9999491378871879\n",
      "Test set accuracy, after batch 1420: 1.0\n"
     ]
    }
   ],
   "source": [
    "most_data = train(params, most)"
   ]
  },
  {
   "cell_type": "code",
   "execution_count": 15,
   "metadata": {},
   "outputs": [
    {
     "name": "stdout",
     "output_type": "stream",
     "text": [
      "Test set accuracy, after batch 20: 0.5045521590966888\n",
      "Test set accuracy, after batch 40: 0.5045521590966888\n",
      "Test set accuracy, after batch 60: 0.514368546869437\n",
      "Test set accuracy, after batch 80: 0.5134021667260058\n",
      "Test set accuracy, after batch 100: 0.4991099130257871\n",
      "Test set accuracy, after batch 120: 0.5059254361426173\n",
      "Test set accuracy, after batch 140: 0.5464116779411017\n",
      "Test set accuracy, after batch 160: 0.5310004577590153\n",
      "Test set accuracy, after batch 180: 0.5358832205889833\n",
      "Test set accuracy, after batch 200: 0.5981384466710747\n",
      "Test set accuracy, after batch 220: 0.6501195259651086\n",
      "Test set accuracy, after batch 240: 0.6541884949900819\n",
      "Test set accuracy, after batch 260: 0.7311937337877016\n",
      "Test set accuracy, after batch 280: 0.7382127053557804\n",
      "Test set accuracy, after batch 300: 0.7443670210060526\n",
      "Test set accuracy, after batch 320: 0.7827679161792381\n",
      "Test set accuracy, after batch 340: 0.758557550480647\n",
      "Test set accuracy, after batch 360: 0.7419256395910686\n",
      "Test set accuracy, after batch 380: 0.7274807995524134\n",
      "Test set accuracy, after batch 400: 0.794669650577285\n",
      "Test set accuracy, after batch 420: 0.8075377651187631\n",
      "Test set accuracy, after batch 440: 0.8145058745740298\n",
      "Test set accuracy, after batch 460: 0.8328670972992218\n",
      "Test set accuracy, after batch 480: 0.8505671125578557\n",
      "Test set accuracy, after batch 500: 0.8502110777681705\n",
      "Test set accuracy, after batch 520: 0.849142973399115\n",
      "Test set accuracy, after batch 540: 0.8646559178068257\n",
      "Test set accuracy, after batch 560: 0.8343929606835868\n",
      "Test set accuracy, after batch 580: 0.8728447179695844\n",
      "Test set accuracy, after batch 600: 0.8222369157214791\n",
      "Test set accuracy, after batch 620: 0.8692843700727328\n",
      "Test set accuracy, after batch 640: 0.8652662631605716\n",
      "Test set accuracy, after batch 660: 0.8735059254361426\n",
      "Test set accuracy, after batch 680: 0.8801180001017243\n",
      "Test set accuracy, after batch 700: 0.885255073495753\n",
      "Test set accuracy, after batch 720: 0.8632317786480851\n",
      "Test set accuracy, after batch 740: 0.8769645491073699\n",
      "Test set accuracy, after batch 760: 0.8848990387060679\n",
      "Test set accuracy, after batch 780: 0.8859162809623111\n",
      "Test set accuracy, after batch 800: 0.8877473170235491\n",
      "Test set accuracy, after batch 820: 0.8890188698438534\n",
      "Test set accuracy, after batch 840: 0.8887136971669803\n",
      "Test set accuracy, after batch 860: 0.8885611108285438\n",
      "Test set accuracy, after batch 880: 0.8920197344997711\n",
      "Test set accuracy, after batch 900: 0.8892731804079141\n",
      "Test set accuracy, after batch 920: 0.8926809419663293\n",
      "Test set accuracy, after batch 940: 0.9119576827221403\n",
      "Test set accuracy, after batch 960: 0.9302171812217079\n",
      "Test set accuracy, after batch 980: 0.9355068409541732\n",
      "Test set accuracy, after batch 1000: 0.9466456436600377\n",
      "Test set accuracy, after batch 1020: 0.9768577386704643\n",
      "Test set accuracy, after batch 1040: 0.9900818880016276\n",
      "Test set accuracy, after batch 1060: 0.9717206652764356\n",
      "Test set accuracy, after batch 1080: 0.992981028431921\n",
      "Test set accuracy, after batch 1100: 0.9855042978485327\n",
      "Test set accuracy, after batch 1120: 0.9808758455826255\n",
      "Test set accuracy, after batch 1140: 0.9911499923706831\n",
      "Test set accuracy, after batch 1160: 0.9944560297034739\n",
      "Test set accuracy, after batch 1180: 0.9965413763287727\n",
      "Test set accuracy, after batch 1200: 0.9935405116728548\n",
      "Test set accuracy, after batch 1220: 0.998779309292508\n",
      "Test set accuracy, after batch 1240: 0.9913534408219318\n",
      "Test set accuracy, after batch 1260: 0.999694827323127\n",
      "Test set accuracy, after batch 1280: 0.9990336198565688\n",
      "Test set accuracy, after batch 1300: 0.9998474136615635\n",
      "Test set accuracy, after batch 1320: 0.9998982757743756\n",
      "Test set accuracy, after batch 1340: 0.9999491378871879\n",
      "Test set accuracy, after batch 1360: 1.0\n",
      "Test set accuracy, after batch 1380: 1.0\n",
      "Test set accuracy, after batch 1400: 1.0\n",
      "Test set accuracy, after batch 1420: 0.9999491378871879\n"
     ]
    }
   ],
   "source": [
    "between_5_9_data = train(params, lambda model: between_m_n(model, 5, 9), qname='between 5 and 9')"
   ]
  },
  {
   "cell_type": "markdown",
   "metadata": {},
   "source": [
    "### 5. A Small Visualization"
   ]
  },
  {
   "cell_type": "markdown",
   "metadata": {},
   "source": [
    "We will now plot the data of one trial of training `most` and one trial of training `between 5 and 9`.  We'll put the number of training steps on the horizontal axis, and test set accuracy on the vertical axis.\n",
    "\n",
    "We are using [`plotnine`](https://plotnine.readthedocs.io/en/stable/index.html) for plotting.  This is very faithful port to Python of Handley Wickham's `ggplot2` package for R.  This very influential package implements a \"Grammar of Graphics\" approach to generating figures.  For more information, you can check out the [Data Visualization](http://r4ds.had.co.nz/data-visualisation.html) chapter of _R for Data Science_, [this cheat sheet](https://github.com/rstudio/cheatsheets/blob/master/data-visualization-2.1.pdf), and more on [the package's website](https://ggplot2.tidyverse.org/)."
   ]
  },
  {
   "cell_type": "code",
   "execution_count": 16,
   "metadata": {},
   "outputs": [
    {
     "data": {
      "image/png": "[encoded data removed]",
      "text/plain": [
       "<Figure size 640x480 with 1 Axes>"
      ]
     },
     "metadata": {},
     "output_type": "display_data"
    },
    {
     "data": {
      "text/plain": [
       "<ggplot: (307120171)>"
      ]
     },
     "execution_count": 16,
     "metadata": {},
     "output_type": "execute_result"
    }
   ],
   "source": [
    "all_data = pd.concat([most_data, between_5_9_data])\n",
    "\n",
    "(ggplot(all_data, aes(x='training step', y='test accuracy')) +\n",
    " geom_line(aes(colour='quantifier', group='quantifier')))"
   ]
  },
  {
   "cell_type": "markdown",
   "metadata": {},
   "source": [
    "## Next Steps and Exercises"
   ]
  },
  {
   "cell_type": "markdown",
   "metadata": {},
   "source": [
    "Very cool! It looks like the monotone quantifier is easier to learn than the non-monotone one.\n",
    "\n",
    "Here are some ideas for things that you can do to continue to develop your skills with these tools:\n",
    "\n",
    "1. Define more quantifiers, test them.\n",
    "2. Make sure the training data is balanced.\n",
    "3. Record data across trials, perform a statistical test to see whether one quantifier is learned faster than another.  HINT: add a column to the data table for `trial_num`.\n",
    "4. Parameterize the network architecture, instead of hard-coding it in `__init__`.\n",
    "5. Modify the network (and data generation) so that it learns _multiple_ quantifiers at once.  HINT: you can assign the quantifiers IDs and pass them into `forward`.\n",
    "6. Do a hyper-parameter search."
   ]
  }
 ],
 "metadata": {
  "kernelspec": {
   "display_name": "Python 3",
   "language": "python",
   "name": "python3"
  },
  "language_info": {
   "codemirror_mode": {
    "name": "ipython",
    "version": 3
   },
   "file_extension": ".py",
   "mimetype": "text/x-python",
   "name": "python",
   "nbconvert_exporter": "python",
   "pygments_lexer": "ipython3",
   "version": "3.7.2"
  }
 },
 "nbformat": 4,
 "nbformat_minor": 2
}

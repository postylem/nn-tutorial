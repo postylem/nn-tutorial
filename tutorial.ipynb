{
 "cells": [
  {
   "cell_type": "markdown",
   "metadata": {},
   "source": [
    "# An Introduction to Neural Networks (with an application to quantifiers in natural language)"
   ]
  },
  {
   "cell_type": "markdown",
   "metadata": {},
   "source": [
    "This notebook is part of a tutorial, with accompanying slides.  We will develop a kind of _minimal working example_ of running an experiment with neural networks, inspired by work in natural language semantics.  Instructions for using this notebook may be found at https://github.com/shanest/nn-tutorial.  The slides also contain pointers to more advanced topics and applications."
   ]
  },
  {
   "cell_type": "markdown",
   "metadata": {},
   "source": [
    "In particular, we will conduct a very miniature version of one of the experiments in [Steinert-Threlkeld and Szymanik, \"Learnability and Semantic Universals\"](https://semanticsarchive.net/Archive/mQ2Y2Y2Z/LearnabilitySemanticUniversals.pdf).  In the figure below, they compare a monotone quantifier (_at least 4_) to a non-monotone one (_at least 6 or at most 2_), showing that the former is learned faster than the latter.  We will look at a similar pair of quantifiers here.\n",
    "\n",
    "![](imgs/exp1a_acc.png)"
   ]
  },
  {
   "cell_type": "markdown",
   "metadata": {},
   "source": [
    "(There are several important differences between what we will do today and what's done in the paper.  Because of time constraints, we won't do multiple trials or statistical analysis thereof, and we won't be using recurrent networks.)"
   ]
  },
  {
   "cell_type": "markdown",
   "metadata": {},
   "source": [
    "## Generalized Quantifiers"
   ]
  },
  {
   "cell_type": "markdown",
   "metadata": {},
   "source": [
    "Generalized quantifier theory provides the meanings for expressions like \"most\", \"all\", \"between 5 and 10\", etc. as they are used in sentences like\n",
    "\n",
    "(1) Most of the students are happy.\n",
    "\n",
    "(1) is true just in case the set of students who are happy outnumbers the set of students who are not happy.  Using interpretation bracket notation, where $\\mathcal{M}$ is a model:\n",
    "\n",
    "$$ [[ (1) ]]^{\\mathcal{M}} = 1 \\text{ iff } \\textsf{card}([[\\text{students}]] \\cap [[\\text{happy}]]) > \\textsf{card}([[\\text{students} \\setminus \\text{happy}]]) $$\n",
    "\n",
    "We can view the meaning of an expression like \"most\" as a function, which takes as input models of the form $\\mathcal{M} = \\langle M, A, B \\rangle$, where $A$ is the denotation of the restrictor (e.g. \"students\") and $B$ that of the nuclear scope (e.g. \"are happy\") and outputs a 1 or 0 based on the condition above.  \n",
    "\n",
    "In other words, a quantifier is a _classifier_ of models, classifying every model as 1 (True) or 0 (False)."
   ]
  },
  {
   "cell_type": "markdown",
   "metadata": {},
   "source": [
    "## Experiment"
   ]
  },
  {
   "cell_type": "markdown",
   "metadata": {},
   "source": [
    "We will build a neural network classifier and train it to _learn_ different quantifiers.  Our goal will be to qualitatively compare _monotone_ (e.g. \"most\") to _non-monotone_ (e.g. \"between 5 and 10\") quantifiers.  Please refer to the paper linked above for full definitions of these concepts."
   ]
  },
  {
   "cell_type": "markdown",
   "metadata": {},
   "source": [
    "### Encoding the Input\n",
    "\n",
    "We need a way of passing models into a neural network.  To do this, they must be represented as vectors of real numbers.  We will do this in the following way.\n",
    "\n",
    "For convenience, we will assume properties known as Extensionality (EXT) and Conservativity (CONS) (see SEP for these definitions).  Together, these say that only the sets $A \\cap B$ and $A \\ B$ are relevant to the truth of a quantifier.  We can thus represent a model $\\mathcal{M}$ by encoding whether each object in $M$ belongs to $A \\cap B$ (in which case we will call it a $1$) or to $A \\setminus B$ (in which case we will call it a $0$).\n",
    "\n",
    "Thus, every model of size $n$ can be encoded as an $n$-dimensional vector of bits.  Conversely, every $n$-bit vector corresponds to a model $\\mathcal{M}$.  (Subtle caveat: this correspondence requires an enumeration of $M$.  See the above paper for discussion.)\n",
    "\n",
    "So we will consider models of a fixed size $N$, and feed our networks $N$-bit vectors.  It will output its guess as to whether the quantifier is true or false for that model."
   ]
  },
  {
   "cell_type": "markdown",
   "metadata": {},
   "source": [
    "### 0. Import Libraries"
   ]
  },
  {
   "cell_type": "code",
   "execution_count": 1,
   "metadata": {},
   "outputs": [],
   "source": [
    "import itertools\n",
    "\n",
    "import numpy as np\n",
    "import pandas as pd\n",
    "\n",
    "import torch\n",
    "import torch.nn as nn\n",
    "import torch.nn.functional as F\n",
    "\n",
    "%matplotlib inline\n",
    "from plotnine import *  # Python port of ggplot2"
   ]
  },
  {
   "cell_type": "markdown",
   "metadata": {},
   "source": [
    "### 1. Define Parameters"
   ]
  },
  {
   "cell_type": "code",
   "execution_count": 2,
   "metadata": {},
   "outputs": [],
   "source": [
    "params = {\n",
    "    'model_size': 16,  # how big our models will be\n",
    "    'num_epochs': 2,  # one epoch = one loop through the dataset\n",
    "    'batch_size': 32,  # size of one batch of training examples\n",
    "    'eval_every': 20,  # frequency of evaluations, in # of batches\n",
    "}"
   ]
  },
  {
   "cell_type": "markdown",
   "metadata": {},
   "source": [
    "Note: you will in general have more parameters when you do your experiments, and will usually want to pass these in to your program as command-line flags.  See [this repository]() for an example."
   ]
  },
  {
   "cell_type": "markdown",
   "metadata": {},
   "source": [
    "### 2. Generating the Data"
   ]
  },
  {
   "cell_type": "markdown",
   "metadata": {},
   "source": [
    "First, we can use the Python module `itertools` to quickly generate all models of a certain size."
   ]
  },
  {
   "cell_type": "code",
   "execution_count": 3,
   "metadata": {},
   "outputs": [
    {
     "data": {
      "text/plain": [
       "array([[0, 0, 0],\n",
       "       [0, 0, 1],\n",
       "       [0, 1, 0],\n",
       "       [0, 1, 1],\n",
       "       [1, 0, 0],\n",
       "       [1, 0, 1],\n",
       "       [1, 1, 0],\n",
       "       [1, 1, 1]])"
      ]
     },
     "execution_count": 3,
     "metadata": {},
     "output_type": "execute_result"
    }
   ],
   "source": [
    "def get_all_models(length):\n",
    "    \"\"\"Returns a 2-D numpy array containing as rows all bit sequences of the specified length.\"\"\"\n",
    "    return np.array(list(\n",
    "        itertools.product([0, 1], repeat=length)\n",
    "    ))\n",
    "\n",
    "get_all_models(3)"
   ]
  },
  {
   "cell_type": "markdown",
   "metadata": {},
   "source": [
    "Our quantifiers will be functions from bit-arrays to truth values."
   ]
  },
  {
   "cell_type": "code",
   "execution_count": 4,
   "metadata": {},
   "outputs": [],
   "source": [
    "def most(model):\n",
    "    return int(sum(model) > 0.5*len(model))  # integers are useful later\n",
    "\n",
    "def between_m_n(model, m, n):\n",
    "    return int(m < sum(model) < n)"
   ]
  },
  {
   "cell_type": "markdown",
   "metadata": {},
   "source": [
    "`numpy` provides a nice method `apply_along_axis` that we can use to apply a quantifier to the array of all models generated by `get_all_models`."
   ]
  },
  {
   "cell_type": "code",
   "execution_count": 5,
   "metadata": {},
   "outputs": [
    {
     "data": {
      "text/plain": [
       "array([0, 0, 0, 1, 0, 1, 1, 1])"
      ]
     },
     "execution_count": 5,
     "metadata": {},
     "output_type": "execute_result"
    }
   ],
   "source": [
    "def batch_apply(models, quantifier):\n",
    "    \"\"\"Applies quantifier function to 2-D array of models,\n",
    "    where each row corresponds to one model.\"\"\"\n",
    "    return np.apply_along_axis(quantifier, 1, models)\n",
    "\n",
    "batch_apply(get_all_models(3), most)"
   ]
  },
  {
   "cell_type": "markdown",
   "metadata": {},
   "source": [
    "Shuffling the order of data is very important.  This method applies the same shuffle to two sequences, intuitively the inputs and the outputs of a given function."
   ]
  },
  {
   "cell_type": "code",
   "execution_count": 6,
   "metadata": {},
   "outputs": [],
   "source": [
    "def shuffle_data(models, labels):\n",
    "    \"\"\"Shuffles the order of an array of models and of labels.\"\"\"\n",
    "    assert len(models) == len(labels), \"models and labels must be of same length\"\n",
    "    permutation = np.random.permutation(len(models))\n",
    "    return models[permutation], labels[permutation]"
   ]
  },
  {
   "cell_type": "markdown",
   "metadata": {},
   "source": [
    "We can put it all together: the method below takes in a model size and a quantifier function, and then generates the data, splits it into train/test sets (with a specified split percentage), shuffles it, and returns the two sets of data."
   ]
  },
  {
   "cell_type": "code",
   "execution_count": 7,
   "metadata": {},
   "outputs": [],
   "source": [
    "def get_data(model_size, quantifier, train_split=0.7, shuffle=True):\n",
    "    \"\"\"Gets training and test data for quantifier.\"\"\"\n",
    "    # get all models and labels\n",
    "    models = get_all_models(model_size)\n",
    "    labels = batch_apply(models, quantifier)\n",
    "    # shuffle them\n",
    "    if shuffle:\n",
    "        models, labels = shuffle_data(models, labels)\n",
    "    # split into train/test\n",
    "    split_index = int(len(models) * train_split)  # int returns floor / rounds down\n",
    "    train_models = models[:split_index]  # up to index, not including\n",
    "    train_labels = labels[:split_index]\n",
    "    test_models = models[split_index:]  # from index, including\n",
    "    test_labels = labels[split_index:]\n",
    "    return train_models, train_labels, test_models, test_labels"
   ]
  },
  {
   "cell_type": "code",
   "execution_count": 8,
   "metadata": {},
   "outputs": [
    {
     "data": {
      "text/plain": [
       "(array([[1, 0, 1],\n",
       "        [0, 0, 1],\n",
       "        [1, 0, 0],\n",
       "        [0, 1, 0],\n",
       "        [1, 1, 1]]), array([1, 0, 0, 0, 1]), array([[0, 1, 1],\n",
       "        [0, 0, 0],\n",
       "        [1, 1, 0]]), array([1, 0, 1]))"
      ]
     },
     "execution_count": 8,
     "metadata": {},
     "output_type": "execute_result"
    }
   ],
   "source": [
    "get_data(3, most)"
   ]
  },
  {
   "cell_type": "markdown",
   "metadata": {},
   "source": [
    "### 3. Build Model"
   ]
  },
  {
   "cell_type": "markdown",
   "metadata": {},
   "source": [
    "We will use the [PyTorch](http://pytorch.org) library for building and training neural networks.  This library -- developed at FAIR (Facebook AI Research) -- provides a very nice mix of scaffolding and flexibility, as well as great integration with basic Python control flow, which allows for rapid development of your ideas."
   ]
  },
  {
   "cell_type": "markdown",
   "metadata": {},
   "source": [
    "Models are always instances of new `class`es, which must always sub-class `nn.Module`.  By doing so, PyTorch will be able to automatically compute gradients for you, among other things.  \n",
    "\n",
    "Note the first line in `__init__`: this call to `super(...).__init__` is very important!\n",
    "\n",
    "The basic architecture of a model will be defined in the `__init__` method.  Here, we build a simple feed-forward network that has two hidden layers (`self.layer1` and `self.layer2`) and an output layer (`self.output`).\n",
    "\n",
    "The _forward pass_ of your model, i.e. the actual network computation, is then defined in the `forward` method.  Note our standard recipe: `x = F.relu(self.layer(x))`.  This encapsulates the non-linear transformation (`F.relu`) applied point-wise to a linear transformation of the inputs to a layer.\n",
    "\n",
    "Note that our `forward` method applies `softmax` at the output layer, to generate a probability distribution, as is common in classification tasks.\n",
    "\n",
    "Note that you `forward` is very flexible: you can define it with any number of arguments, and return anything you want (including tuples, non-`torch.Tensor` objects, and so on).  "
   ]
  },
  {
   "cell_type": "code",
   "execution_count": 9,
   "metadata": {},
   "outputs": [],
   "source": [
    "class FFNN(nn.Module):  # all models in PyTorch extend nn.Module\n",
    "    \n",
    "    def __init__(self, input_size, output_size):\n",
    "        super(FFNN, self).__init__()\n",
    "        \n",
    "        self.layer1 = nn.Linear(input_size, 16)  # first hidden layer has 32 units\n",
    "        self.layer2 = nn.Linear(16, 16)  # as does second\n",
    "        self.output = nn.Linear(16, output_size)\n",
    "        \n",
    "    def forward(self, models):  # note: forward can take any number of arguments\n",
    "        x = torch.as_tensor(models, dtype=torch.float)\n",
    "        x = F.relu(self.layer1(x))\n",
    "        x = F.relu(self.layer2(x))\n",
    "        x = self.output(x)\n",
    "        return F.softmax(x, dim=1)  # softmax converts to a probability distribution"
   ]
  },
  {
   "cell_type": "markdown",
   "metadata": {},
   "source": [
    "### 4. Train Model"
   ]
  },
  {
   "cell_type": "markdown",
   "metadata": {},
   "source": [
    "Before defining a complete training loop, let's just look at the model a little bit."
   ]
  },
  {
   "cell_type": "code",
   "execution_count": 10,
   "metadata": {},
   "outputs": [],
   "source": [
    "# get the data\n",
    "train_models, train_labels, test_models, test_labels = get_data(\n",
    "    params['model_size'],\n",
    "    most\n",
    ")\n",
    "    \n",
    "# get the model\n",
    "model = FFNN(params['model_size'], 2)"
   ]
  },
  {
   "cell_type": "markdown",
   "metadata": {},
   "source": [
    "Printing the model gives a nice overview of its structure."
   ]
  },
  {
   "cell_type": "code",
   "execution_count": 11,
   "metadata": {},
   "outputs": [
    {
     "data": {
      "text/plain": [
       "FFNN(\n",
       "  (layer1): Linear(in_features=16, out_features=16, bias=True)\n",
       "  (layer2): Linear(in_features=16, out_features=16, bias=True)\n",
       "  (output): Linear(in_features=16, out_features=2, bias=True)\n",
       ")"
      ]
     },
     "execution_count": 11,
     "metadata": {},
     "output_type": "execute_result"
    }
   ],
   "source": [
    "model"
   ]
  },
  {
   "cell_type": "markdown",
   "metadata": {},
   "source": [
    "If you call `model` on some inputs, it calls `forward` on those inputs.  Note that we are sending a 2-D array here, with the first dimension being the number of example models, and the second dimension being the size of an individual model.  The output is a distribution over True/False for each example.\n",
    "\n",
    "(While we could have had only one output node, since $p(False) = 1 - p(True)$, it's useful to treat this as a two-way classification task, to be more in line with classification tasks with more than two classes.)"
   ]
  },
  {
   "cell_type": "code",
   "execution_count": 12,
   "metadata": {},
   "outputs": [
    {
     "data": {
      "text/plain": [
       "tensor([[0.3128, 0.6872],\n",
       "        [0.3163, 0.6837],\n",
       "        [0.2975, 0.7025],\n",
       "        ...,\n",
       "        [0.2862, 0.7138],\n",
       "        [0.2872, 0.7128],\n",
       "        [0.3283, 0.6717]], grad_fn=<SoftmaxBackward>)"
      ]
     },
     "execution_count": 12,
     "metadata": {},
     "output_type": "execute_result"
    }
   ],
   "source": [
    "model(train_models)"
   ]
  },
  {
   "cell_type": "markdown",
   "metadata": {},
   "source": [
    "We can now define the main training loop!  It's relatively straight-forward: get the training and test data, build the model, loop over epochs and mini-batches, performing one update for each mini-batch.\n",
    "\n",
    "The update works like this in PyTorch: you instantiate an `optimizer`, with the parameters of your model.  Each mini-batch, you call `zero_grad` on the optimizer, in order to clear out its previous gradient computation.  After computing the loss, you can then compute all the gradients of all the parameters in the model by `loss.backward()`.  Note that here `loss` can be any `torch.Tensor` object!  Then, you simply call `opt.step()` to update the parameters!\n",
    "\n",
    "We will also record some simple data during training so that we can visualize it.  This can also give you a feel for how you can store variables of interest while training a model."
   ]
  },
  {
   "cell_type": "code",
   "execution_count": 13,
   "metadata": {},
   "outputs": [],
   "source": [
    "# TODO: \n",
    "# * install pandas, plotnine\n",
    "# * record data, plot learning curves\n",
    "\n",
    "def train(params, quantifier, qname=None):\n",
    "    \n",
    "    # get the data\n",
    "    train_models, train_labels, test_models, test_labels = get_data(\n",
    "        params['model_size'],\n",
    "        quantifier\n",
    "    )\n",
    "    \n",
    "    # get the model\n",
    "    model = FFNN(params['model_size'], 2)  # 2 outputs: False/True\n",
    "    \n",
    "    # get an optimizer\n",
    "    opt = torch.optim.Adam(model.parameters())\n",
    "    num_batches = int(len(train_models) / params['batch_size'])\n",
    "    \n",
    "    # dataframe to record\n",
    "    data = {'training step': [], 'test accuracy': []}\n",
    "\n",
    "    for epoch in range(params['num_epochs']):\n",
    "        # shuffle the training data each epoch\n",
    "        train_models, train_labels = shuffle_data(train_models, train_labels)\n",
    "        model.train()  # for our model, this has no effect, but is good practice\n",
    "\n",
    "        # individual training steps!\n",
    "        for batch_idx in range(num_batches):\n",
    "            # batch the data\n",
    "            batch_models = train_models[batch_idx*params['batch_size']:(batch_idx+1)*params['batch_size']]\n",
    "            batch_labels = train_labels[batch_idx*params['batch_size']:(batch_idx+1)*params['batch_size']]\n",
    "\n",
    "            # get model's output\n",
    "            model_probs = model(batch_models)  # calls .forward\n",
    "\n",
    "            # zero the gradients\n",
    "            opt.zero_grad()\n",
    "            # calculate loss\n",
    "            loss = F.cross_entropy(model_probs,\n",
    "                                   torch.as_tensor(batch_labels))\n",
    "            loss.backward()  # computes the gradients!\n",
    "            opt.step()  # updates the parameters\n",
    "            \n",
    "            # get overall batch num for convenience\n",
    "            batch_num = epoch*num_batches + batch_idx + 1\n",
    "            if (batch_num + 1) % params['eval_every'] == 0:\n",
    "                with torch.no_grad():  # speeds things up\n",
    "                    model.eval()  # again, no effect on our model, but good practice\n",
    "                    model_probs = model(test_models).numpy()\n",
    "                    model_predictions = model_probs.argmax(axis=1).flatten()\n",
    "                    # 1 if correct prediction, 0 otherwise\n",
    "                    correct = (model_predictions == test_labels).astype(int)\n",
    "                    accuracy = sum(correct) / len(correct)\n",
    "                    print('Test set accuracy, after batch {}: {}'.format(\n",
    "                        batch_num+1,\n",
    "                        accuracy\n",
    "                    ))\n",
    "                    # record\n",
    "                    data['training step'].append(batch_num+1)\n",
    "                    data['test accuracy'].append(accuracy)\n",
    "                model.train()\n",
    "                \n",
    "        data = pd.DataFrame(data)\n",
    "        data['quantifier'] = qname or quantifier.__name__\n",
    "        return data"
   ]
  },
  {
   "cell_type": "code",
   "execution_count": 14,
   "metadata": {},
   "outputs": [
    {
     "name": "stdout",
     "output_type": "stream",
     "text": [
      "Test set accuracy, after batch 20: 0.5949341335639082\n",
      "Test set accuracy, after batch 40: 0.595798789481715\n",
      "Test set accuracy, after batch 60: 0.595798789481715\n",
      "Test set accuracy, after batch 80: 0.595798789481715\n",
      "Test set accuracy, after batch 100: 0.595798789481715\n",
      "Test set accuracy, after batch 120: 0.595798789481715\n",
      "Test set accuracy, after batch 140: 0.595798789481715\n",
      "Test set accuracy, after batch 160: 0.595798789481715\n",
      "Test set accuracy, after batch 180: 0.595798789481715\n",
      "Test set accuracy, after batch 200: 0.595798789481715\n",
      "Test set accuracy, after batch 220: 0.595798789481715\n",
      "Test set accuracy, after batch 240: 0.595798789481715\n",
      "Test set accuracy, after batch 260: 0.595798789481715\n",
      "Test set accuracy, after batch 280: 0.595798789481715\n",
      "Test set accuracy, after batch 300: 0.595798789481715\n",
      "Test set accuracy, after batch 320: 0.595798789481715\n",
      "Test set accuracy, after batch 340: 0.595798789481715\n",
      "Test set accuracy, after batch 360: 0.595798789481715\n",
      "Test set accuracy, after batch 380: 0.595798789481715\n",
      "Test set accuracy, after batch 400: 0.595798789481715\n",
      "Test set accuracy, after batch 420: 0.7494532322872692\n",
      "Test set accuracy, after batch 440: 0.7915161995829306\n",
      "Test set accuracy, after batch 460: 0.7904989573266874\n",
      "Test set accuracy, after batch 480: 0.831697268704542\n",
      "Test set accuracy, after batch 500: 0.8493972839631758\n",
      "Test set accuracy, after batch 520: 0.8443619347947714\n",
      "Test set accuracy, after batch 540: 0.8855093840598138\n",
      "Test set accuracy, after batch 560: 0.9000050862112812\n",
      "Test set accuracy, after batch 580: 0.8449214180357052\n",
      "Test set accuracy, after batch 600: 0.8980214638116067\n",
      "Test set accuracy, after batch 620: 0.9094654391943441\n",
      "Test set accuracy, after batch 640: 0.9324042520726311\n",
      "Test set accuracy, after batch 660: 0.9279792482579726\n",
      "Test set accuracy, after batch 680: 0.9382533950460302\n",
      "Test set accuracy, after batch 700: 0.9575809979146533\n",
      "Test set accuracy, after batch 720: 0.965108590610854\n",
      "Test set accuracy, after batch 740: 0.9561059966431006\n",
      "Test set accuracy, after batch 760: 0.9698387671023855\n",
      "Test set accuracy, after batch 780: 0.9795534306495092\n",
      "Test set accuracy, after batch 800: 0.9718223895020599\n",
      "Test set accuracy, after batch 820: 0.9545801332587356\n",
      "Test set accuracy, after batch 840: 0.9756370479629723\n",
      "Test set accuracy, after batch 860: 0.9855551599613448\n",
      "Test set accuracy, after batch 880: 0.9833172269976095\n",
      "Test set accuracy, after batch 900: 0.9844361934794771\n",
      "Test set accuracy, after batch 920: 0.9866741264432124\n",
      "Test set accuracy, after batch 940: 0.9812318803723107\n",
      "Test set accuracy, after batch 960: 0.9720258379533085\n",
      "Test set accuracy, after batch 980: 0.9863689537663395\n",
      "Test set accuracy, after batch 1000: 0.9898275774375668\n",
      "Test set accuracy, after batch 1020: 0.9927775799806724\n",
      "Test set accuracy, after batch 1040: 0.9933879253344184\n",
      "Test set accuracy, after batch 1060: 0.9815879151619958\n",
      "Test set accuracy, after batch 1080: 0.9832663648847974\n",
      "Test set accuracy, after batch 1100: 0.9905396470169371\n",
      "Test set accuracy, after batch 1120: 0.9906413712425615\n",
      "Test set accuracy, after batch 1140: 0.9955241340725294\n",
      "Test set accuracy, after batch 1160: 0.9923198209653629\n",
      "Test set accuracy, after batch 1180: 0.9976603428106403\n",
      "Test set accuracy, after batch 1200: 0.9973551701337674\n",
      "Test set accuracy, after batch 1220: 0.9965922384415848\n",
      "Test set accuracy, after batch 1240: 0.9891155078581965\n",
      "Test set accuracy, after batch 1260: 0.9969991353440822\n",
      "Test set accuracy, after batch 1280: 0.9980672397131377\n",
      "Test set accuracy, after batch 1300: 0.9980163776003255\n",
      "Test set accuracy, after batch 1320: 0.9982706881643864\n",
      "Test set accuracy, after batch 1340: 0.9979146533747012\n",
      "Test set accuracy, after batch 1360: 0.9917603377244291\n",
      "Test set accuracy, after batch 1380: 0.9970499974568944\n",
      "Test set accuracy, after batch 1400: 0.9992370683078176\n",
      "Test set accuracy, after batch 1420: 0.9950155129444077\n"
     ]
    }
   ],
   "source": [
    "most_data = train(params, most)"
   ]
  },
  {
   "cell_type": "code",
   "execution_count": 15,
   "metadata": {},
   "outputs": [
    {
     "name": "stdout",
     "output_type": "stream",
     "text": [
      "Test set accuracy, after batch 20: 0.49142973399115\n",
      "Test set accuracy, after batch 40: 0.5129952698235085\n",
      "Test set accuracy, after batch 60: 0.568536697014394\n",
      "Test set accuracy, after batch 80: 0.5787091195768272\n",
      "Test set accuracy, after batch 100: 0.5197599308275266\n",
      "Test set accuracy, after batch 120: 0.5003814658460912\n",
      "Test set accuracy, after batch 140: 0.5014495702151467\n",
      "Test set accuracy, after batch 160: 0.5344590814302426\n",
      "Test set accuracy, after batch 180: 0.5196073444890901\n",
      "Test set accuracy, after batch 200: 0.5881694725598902\n",
      "Test set accuracy, after batch 220: 0.5752504959056\n",
      "Test set accuracy, after batch 240: 0.515284064900056\n",
      "Test set accuracy, after batch 260: 0.5372564976349118\n",
      "Test set accuracy, after batch 280: 0.5654341081328519\n",
      "Test set accuracy, after batch 300: 0.6717867860230914\n",
      "Test set accuracy, after batch 320: 0.6840954173236357\n",
      "Test set accuracy, after batch 340: 0.6195005340521845\n",
      "Test set accuracy, after batch 360: 0.7010833630028992\n",
      "Test set accuracy, after batch 380: 0.6958954274960581\n",
      "Test set accuracy, after batch 400: 0.742027363816693\n",
      "Test set accuracy, after batch 420: 0.7499618534153909\n",
      "Test set accuracy, after batch 440: 0.7556075479375414\n",
      "Test set accuracy, after batch 460: 0.7749351508061645\n",
      "Test set accuracy, after batch 480: 0.7793092925080107\n",
      "Test set accuracy, after batch 500: 0.7915161995829306\n",
      "Test set accuracy, after batch 520: 0.7982808605869488\n",
      "Test set accuracy, after batch 540: 0.8065205228625197\n",
      "Test set accuracy, after batch 560: 0.8170998423274503\n",
      "Test set accuracy, after batch 580: 0.8245257107980265\n",
      "Test set accuracy, after batch 600: 0.8142007018971568\n",
      "Test set accuracy, after batch 620: 0.8312903718020447\n",
      "Test set accuracy, after batch 640: 0.8366817557601343\n",
      "Test set accuracy, after batch 660: 0.8356645135038909\n",
      "Test set accuracy, after batch 680: 0.7940084431107268\n",
      "Test set accuracy, after batch 700: 0.8227963989624129\n",
      "Test set accuracy, after batch 720: 0.8511265957987895\n",
      "Test set accuracy, after batch 740: 0.8222877778342912\n",
      "Test set accuracy, after batch 760: 0.8285946798229998\n",
      "Test set accuracy, after batch 780: 0.8233050200905345\n",
      "Test set accuracy, after batch 800: 0.8663852296424394\n",
      "Test set accuracy, after batch 820: 0.8666904023193124\n",
      "Test set accuracy, after batch 840: 0.8604852245562281\n",
      "Test set accuracy, after batch 860: 0.8718274757133412\n",
      "Test set accuracy, after batch 880: 0.8699964396521032\n",
      "Test set accuracy, after batch 900: 0.8777274807995524\n",
      "Test set accuracy, after batch 920: 0.8778800671379889\n",
      "Test set accuracy, after batch 940: 0.868419714154926\n",
      "Test set accuracy, after batch 960: 0.8719291999389654\n",
      "Test set accuracy, after batch 980: 0.8575860841259346\n",
      "Test set accuracy, after batch 1000: 0.8670464371089975\n",
      "Test set accuracy, after batch 1020: 0.8825593815167082\n",
      "Test set accuracy, after batch 1040: 0.8724886831798992\n",
      "Test set accuracy, after batch 1060: 0.8875438685723005\n",
      "Test set accuracy, after batch 1080: 0.8877473170235491\n",
      "Test set accuracy, after batch 1100: 0.8875947306851126\n",
      "Test set accuracy, after batch 1120: 0.8920197344997711\n",
      "Test set accuracy, after batch 1140: 0.8889680077310411\n",
      "Test set accuracy, after batch 1160: 0.8910533543563399\n",
      "Test set accuracy, after batch 1180: 0.8937999084481969\n",
      "Test set accuracy, after batch 1200: 0.8945628401403795\n",
      "Test set accuracy, after batch 1220: 0.890748181679467\n",
      "Test set accuracy, after batch 1240: 0.8902904226641575\n",
      "Test set accuracy, after batch 1260: 0.8911042164691522\n",
      "Test set accuracy, after batch 1280: 0.8965973246528661\n",
      "Test set accuracy, after batch 1300: 0.8956818066222471\n",
      "Test set accuracy, after batch 1320: 0.8953766339453741\n",
      "Test set accuracy, after batch 1340: 0.897461980570673\n",
      "Test set accuracy, after batch 1360: 0.8987843955037892\n",
      "Test set accuracy, after batch 1380: 0.8987843955037892\n",
      "Test set accuracy, after batch 1400: 0.8954783581709984\n",
      "Test set accuracy, after batch 1420: 0.8986318091653527\n"
     ]
    }
   ],
   "source": [
    "between_5_9_data = train(params, lambda model: between_m_n(model, 5, 9), qname='between 5 and 9')"
   ]
  },
  {
   "cell_type": "markdown",
   "metadata": {},
   "source": [
    "### 5. A Small Visualization"
   ]
  },
  {
   "cell_type": "markdown",
   "metadata": {},
   "source": [
    "We will now plot the data of one trial of training `most` and one trial of training `between 5 and 9`.  We'll put the number of training steps on the horizontal axis, and test set accuracy on the vertical axis.\n",
    "\n",
    "We are using [`plotnine`](https://plotnine.readthedocs.io/en/stable/index.html) for plotting.  This is very faithful port to Python of Handley Wickham's `ggplot2` package for R.  This very influential package implements a \"Grammar of Graphics\" approach to generating figures.  For more information, you can check out the [Data Visualization](http://r4ds.had.co.nz/data-visualisation.html) chapter of _R for Data Science_, [this cheat sheet](https://github.com/rstudio/cheatsheets/blob/master/data-visualization-2.1.pdf), and more on [the package's website](https://ggplot2.tidyverse.org/)."
   ]
  },
  {
   "cell_type": "code",
   "execution_count": 16,
   "metadata": {},
   "outputs": [
    {
     "data": {
      "image/png": "[encoded data removed]",
      "text/plain": [
       "<Figure size 640x480 with 1 Axes>"
      ]
     },
     "metadata": {},
     "output_type": "display_data"
    },
    {
     "data": {
      "text/plain": [
       "<ggplot: (-9223372036534111719)>"
      ]
     },
     "execution_count": 16,
     "metadata": {},
     "output_type": "execute_result"
    }
   ],
   "source": [
    "all_data = pd.concat([most_data, between_5_9_data])\n",
    "\n",
    "(ggplot(all_data, aes(x='training step', y='test accuracy')) +\n",
    " geom_line(aes(colour='quantifier', group='quantifier')))"
   ]
  },
  {
   "cell_type": "markdown",
   "metadata": {},
   "source": [
    "## Next Steps and Exercises"
   ]
  },
  {
   "cell_type": "markdown",
   "metadata": {},
   "source": [
    "Very cool! It looks like the monotone quantifier is easier to learn than the non-monotone one.\n",
    "\n",
    "Here are some ideas for things that you can do to continue to develop your skills with these tools:\n",
    "\n",
    "1. Define more quantifiers, test them.\n",
    "2. Make sure the training data is balanced.\n",
    "3. Record data across trials, perform a statistical test to see whether one quantifier is learned faster than another.\n",
    "4. Parameterize the network architecture, instead of hard-coding it in `__init__`.\n",
    "5. Do a hyper-parameter search.\n",
    "6. Modify the network (and data generation) so that it learns _multiple_ quantifiers at once.  HINT: you can assign the quantifiers IDs and pass them into `forward`."
   ]
  }
 ],
 "metadata": {
  "kernelspec": {
   "display_name": "Python 3",
   "language": "python",
   "name": "python3"
  },
  "language_info": {
   "codemirror_mode": {
    "name": "ipython",
    "version": 3
   },
   "file_extension": ".py",
   "mimetype": "text/x-python",
   "name": "python",
   "nbconvert_exporter": "python",
   "pygments_lexer": "ipython3",
   "version": "3.7.2"
  }
 },
 "nbformat": 4,
 "nbformat_minor": 2
}

{
 "cells": [
  {
   "cell_type": "markdown",
   "metadata": {},
   "source": [
    "# An Introduction to Neural Networks (with an application to quantifiers in natural language)"
   ]
  },
  {
   "cell_type": "markdown",
   "metadata": {},
   "source": [
    "This notebook is part of a tutorial, with accompanying slides.  We will develop a kind of _minimal working example_ of running an experiment with neural networks, inspired by work in natural language semantics.  Instructions for using this notebook may be found at https://github.com/shanest/nn-tutorial.  The slides also contain pointers to more advanced topics and applications."
   ]
  },
  {
   "cell_type": "markdown",
   "metadata": {},
   "source": [
    "In particular, we will conduct a very miniature version of one of the experiments in [Steinert-Threlkeld and Szymanik, \"Learnability and Semantic Universals\"](https://semanticsarchive.net/Archive/mQ2Y2Y2Z/LearnabilitySemanticUniversals.pdf).  In the figure below, they compare a monotone quantifier (_at least 4_) to a non-monotone one (_at least 6 or at most 2_), showing that the former is learned faster than the latter.  We will look at a similar pair of quantifiers here.\n",
    "\n",
    "![](imgs/exp1a_acc.png)"
   ]
  },
  {
   "cell_type": "markdown",
   "metadata": {},
   "source": [
    "(There are several important differences between what we will do today and what's done in the paper.  Because of time constraints, we won't do multiple trials or statistical analysis thereof, and we won't be using recurrent networks.)"
   ]
  },
  {
   "cell_type": "markdown",
   "metadata": {},
   "source": [
    "## Generalized Quantifiers"
   ]
  },
  {
   "cell_type": "markdown",
   "metadata": {},
   "source": [
    "Generalized quantifier theory provides the meanings for expressions like \"most\", \"all\", \"between 5 and 10\", etc. as they are used in sentences like\n",
    "\n",
    "(1) Most of the students are happy.\n",
    "\n",
    "(1) is true just in case the set of students who are happy outnumbers the set of students who are not happy.  Using interpretation bracket notation, where $\\mathcal{M}$ is a model:\n",
    "\n",
    "$$ [[ (1) ]]^{\\mathcal{M}} = 1 \\text{ iff } \\textsf{card}([[\\text{students}]] \\cap [[\\text{happy}]]) > \\textsf{card}([[\\text{students} \\setminus \\text{happy}]]) $$\n",
    "\n",
    "We can view the meaning of an expression like \"most\" as a function, which takes as input models of the form $\\mathcal{M} = \\langle M, A, B \\rangle$, where $A$ is the denotation of the restrictor (e.g. \"students\") and $B$ that of the nuclear scope (e.g. \"are happy\") and outputs a 1 or 0 based on the condition above.  \n",
    "\n",
    "In other words, a quantifier is a _classifier_ of models, classifying every model as 1 (True) or 0 (False)."
   ]
  },
  {
   "cell_type": "markdown",
   "metadata": {},
   "source": [
    "## Experiment"
   ]
  },
  {
   "cell_type": "markdown",
   "metadata": {},
   "source": [
    "We will build a neural network classifier and train it to _learn_ different quantifiers.  Our goal will be to qualitatively compare _monotone_ (e.g. \"most\") to _non-monotone_ (e.g. \"between 5 and 10\") quantifiers.  Please refer to the paper linked above for full definitions of these concepts."
   ]
  },
  {
   "cell_type": "markdown",
   "metadata": {},
   "source": [
    "### Encoding the Input\n",
    "\n",
    "We need a way of passing models into a neural network.  To do this, they must be represented as vectors of real numbers.  We will do this in the following way.\n",
    "\n",
    "For convenience, we will assume properties known as Extensionality (EXT) and Conservativity (CONS) (see SEP for these definitions).  Together, these say that only the sets $A \\cap B$ and $A \\ B$ are relevant to the truth of a quantifier.  We can thus represent a model $\\mathcal{M}$ by encoding whether each object in $M$ belongs to $A \\cap B$ (in which case we will call it a $1$) or to $A \\setminus B$ (in which case we will call it a $0$).\n",
    "\n",
    "Thus, every model of size $n$ can be encoded as an $n$-dimensional vector of bits.  Conversely, every $n$-bit vector corresponds to a model $\\mathcal{M}$.  (Subtle caveat: this correspondence requires an enumeration of $M$.  See the above paper for discussion.)\n",
    "\n",
    "So we will consider models of a fixed size $N$, and feed our networks $N$-bit vectors.  It will output its guess as to whether the quantifier is true or false for that model."
   ]
  },
  {
   "cell_type": "markdown",
   "metadata": {},
   "source": [
    "### 0. Import Libraries"
   ]
  },
  {
   "cell_type": "code",
   "execution_count": 1,
   "metadata": {},
   "outputs": [],
   "source": [
    "import itertools\n",
    "import numpy as np\n",
    "import torch\n",
    "import torch.nn as nn\n",
    "import torch.nn.functional as F"
   ]
  },
  {
   "cell_type": "markdown",
   "metadata": {},
   "source": [
    "### 1. Define Parameters"
   ]
  },
  {
   "cell_type": "code",
   "execution_count": 2,
   "metadata": {},
   "outputs": [],
   "source": [
    "params = {\n",
    "    'model_size': 16,  # how big our models will be\n",
    "    'num_epochs': 2,  # one epoch = one loop through the dataset\n",
    "    'batch_size': 32,  # size of one batch of training examples\n",
    "    'eval_every': 20,  # frequency of evaluations, in # of batches\n",
    "}"
   ]
  },
  {
   "cell_type": "markdown",
   "metadata": {},
   "source": [
    "Note: you will in general have more parameters when you do your experiments, and will usually want to pass these in to your program as command-line flags.  See [this repository]() for an example."
   ]
  },
  {
   "cell_type": "markdown",
   "metadata": {},
   "source": [
    "### 2. Generating the Data"
   ]
  },
  {
   "cell_type": "markdown",
   "metadata": {},
   "source": [
    "First, we can use the Python module `itertools` to quickly generate all models of a certain size."
   ]
  },
  {
   "cell_type": "code",
   "execution_count": 3,
   "metadata": {},
   "outputs": [
    {
     "data": {
      "text/plain": [
       "array([[0, 0, 0],\n",
       "       [0, 0, 1],\n",
       "       [0, 1, 0],\n",
       "       [0, 1, 1],\n",
       "       [1, 0, 0],\n",
       "       [1, 0, 1],\n",
       "       [1, 1, 0],\n",
       "       [1, 1, 1]])"
      ]
     },
     "execution_count": 3,
     "metadata": {},
     "output_type": "execute_result"
    }
   ],
   "source": [
    "def get_all_models(length):\n",
    "    \"\"\"Returns a 2-D numpy array containing as rows all bit sequences of the specified length.\"\"\"\n",
    "    return np.array(list(\n",
    "        itertools.product([0, 1], repeat=length)\n",
    "    ))\n",
    "\n",
    "get_all_models(3)"
   ]
  },
  {
   "cell_type": "markdown",
   "metadata": {},
   "source": [
    "Our quantifiers will be functions from bit-arrays to truth values."
   ]
  },
  {
   "cell_type": "code",
   "execution_count": 4,
   "metadata": {},
   "outputs": [],
   "source": [
    "def most(model):\n",
    "    return int(sum(model) > 0.5*len(model))  # integers are useful later\n",
    "\n",
    "def between_m_n(model, m, n):\n",
    "    return int(m < sum(model) < n)"
   ]
  },
  {
   "cell_type": "markdown",
   "metadata": {},
   "source": [
    "`numpy` provides a nice method `apply_along_axis` that we can use to apply a quantifier to the array of all models generated by `get_all_models`."
   ]
  },
  {
   "cell_type": "code",
   "execution_count": 5,
   "metadata": {},
   "outputs": [
    {
     "data": {
      "text/plain": [
       "array([0, 0, 0, 1, 0, 1, 1, 1])"
      ]
     },
     "execution_count": 5,
     "metadata": {},
     "output_type": "execute_result"
    }
   ],
   "source": [
    "def batch_apply(models, quantifier):\n",
    "    \"\"\"Applies quantifier function to 2-D array of models,\n",
    "    where each row corresponds to one model.\"\"\"\n",
    "    return np.apply_along_axis(quantifier, 1, models)\n",
    "\n",
    "batch_apply(get_all_models(3), most)"
   ]
  },
  {
   "cell_type": "markdown",
   "metadata": {},
   "source": [
    "Shuffling the order of data is very important.  This method applies the same shuffle to two sequences, intuitively the inputs and the outputs of a given function."
   ]
  },
  {
   "cell_type": "code",
   "execution_count": 6,
   "metadata": {},
   "outputs": [],
   "source": [
    "def shuffle_data(models, labels):\n",
    "    \"\"\"Shuffles the order of an array of models and of labels.\"\"\"\n",
    "    assert len(models) == len(labels), \"models and labels must be of same length\"\n",
    "    permutation = np.random.permutation(len(models))\n",
    "    return models[permutation], labels[permutation]"
   ]
  },
  {
   "cell_type": "markdown",
   "metadata": {},
   "source": [
    "We can put it all together: the method below takes in a model size and a quantifier function, and then generates the data, splits it into train/test sets (with a specified split percentage), shuffles it, and returns the two sets of data."
   ]
  },
  {
   "cell_type": "code",
   "execution_count": 7,
   "metadata": {},
   "outputs": [],
   "source": [
    "def get_data(model_size, quantifier, train_split=0.7, shuffle=True):\n",
    "    \"\"\"Gets training and test data for quantifier.\"\"\"\n",
    "    # get all models and labels\n",
    "    models = get_all_models(model_size)\n",
    "    labels = batch_apply(models, quantifier)\n",
    "    # shuffle them\n",
    "    if shuffle:\n",
    "        models, labels = shuffle_data(models, labels)\n",
    "    # split into train/test\n",
    "    split_index = int(len(models) * train_split)  # int returns floor / rounds down\n",
    "    train_models = models[:split_index]  # up to index, not including\n",
    "    train_labels = labels[:split_index]\n",
    "    test_models = models[split_index:]  # from index, including\n",
    "    test_labels = labels[split_index:]\n",
    "    return train_models, train_labels, test_models, test_labels"
   ]
  },
  {
   "cell_type": "code",
   "execution_count": 8,
   "metadata": {},
   "outputs": [
    {
     "data": {
      "text/plain": [
       "(array([[0, 0, 1],\n",
       "        [0, 1, 1],\n",
       "        [1, 0, 1],\n",
       "        [1, 0, 0],\n",
       "        [1, 1, 1]]), array([0, 1, 1, 0, 1]), array([[1, 1, 0],\n",
       "        [0, 0, 0],\n",
       "        [0, 1, 0]]), array([1, 0, 0]))"
      ]
     },
     "execution_count": 8,
     "metadata": {},
     "output_type": "execute_result"
    }
   ],
   "source": [
    "get_data(3, most)"
   ]
  },
  {
   "cell_type": "markdown",
   "metadata": {},
   "source": [
    "### 3. Build Model"
   ]
  },
  {
   "cell_type": "markdown",
   "metadata": {},
   "source": [
    "We will use the [PyTorch](http://pytorch.org) library for building and training neural networks.  This library -- developed at FAIR (Facebook AI Research) -- provides a very nice mix of scaffolding and flexibility, as well as great integration with basic Python control flow, which allows for rapid development of your ideas."
   ]
  },
  {
   "cell_type": "markdown",
   "metadata": {},
   "source": [
    "Models are always instances of new `class`es, which must always sub-class `nn.Module`.  By doing so, PyTorch will be able to automatically compute gradients for you, among other things.  \n",
    "\n",
    "Note the first line in `__init__`: this call to `super(...).__init__` is very important!\n",
    "\n",
    "The basic architecture of a model will be defined in the `__init__` method.  Here, we build a simple feed-forward network that has two hidden layers (`self.layer1` and `self.layer2`) and an output layer (`self.output`).\n",
    "\n",
    "The _forward pass_ of your model, i.e. the actual network computation, is then defined in the `forward` method.  Note our standard recipe: `x = F.relu(self.layer(x))`.  This encapsulates the non-linear transformation (`F.relu`) applied point-wise to a linear transformation of the inputs to a layer.\n",
    "\n",
    "Note that our `forward` method applies `softmax` at the output layer, to generate a probability distribution, as is common in classification tasks.\n",
    "\n",
    "Note that you `forward` is very flexible: you can define it with any number of arguments, and return anything you want (including tuples, non-`torch.Tensor` objects, and so on).  "
   ]
  },
  {
   "cell_type": "code",
   "execution_count": 9,
   "metadata": {},
   "outputs": [],
   "source": [
    "class FFNN(nn.Module):  # all models in PyTorch extend nn.Module\n",
    "    \n",
    "    def __init__(self, input_size, output_size):\n",
    "        super(FFNN, self).__init__()\n",
    "        \n",
    "        self.layer1 = nn.Linear(input_size, 16)  # first hidden layer has 32 units\n",
    "        self.layer2 = nn.Linear(16, 16)  # as does second\n",
    "        self.output = nn.Linear(16, output_size)\n",
    "        \n",
    "    def forward(self, models):  # note: forward can take any number of arguments\n",
    "        x = torch.as_tensor(models, dtype=torch.float)\n",
    "        x = F.relu(self.layer1(x))\n",
    "        x = F.relu(self.layer2(x))\n",
    "        x = self.output(x)\n",
    "        return F.softmax(x, dim=1)  # softmax converts to a probability distribution"
   ]
  },
  {
   "cell_type": "markdown",
   "metadata": {},
   "source": [
    "### 4. Train Model"
   ]
  },
  {
   "cell_type": "markdown",
   "metadata": {},
   "source": [
    "Before defining a complete training loop, let's just look at the model a little bit."
   ]
  },
  {
   "cell_type": "code",
   "execution_count": 10,
   "metadata": {},
   "outputs": [],
   "source": [
    "# get the data\n",
    "train_models, train_labels, test_models, test_labels = get_data(\n",
    "    params['model_size'],\n",
    "    most\n",
    ")\n",
    "    \n",
    "# get the model\n",
    "model = FFNN(params['model_size'], 2)"
   ]
  },
  {
   "cell_type": "markdown",
   "metadata": {},
   "source": [
    "Printing the model gives a nice overview of its structure."
   ]
  },
  {
   "cell_type": "code",
   "execution_count": 11,
   "metadata": {},
   "outputs": [
    {
     "data": {
      "text/plain": [
       "FFNN(\n",
       "  (layer1): Linear(in_features=16, out_features=16, bias=True)\n",
       "  (layer2): Linear(in_features=16, out_features=16, bias=True)\n",
       "  (output): Linear(in_features=16, out_features=2, bias=True)\n",
       ")"
      ]
     },
     "execution_count": 11,
     "metadata": {},
     "output_type": "execute_result"
    }
   ],
   "source": [
    "model"
   ]
  },
  {
   "cell_type": "markdown",
   "metadata": {},
   "source": [
    "If you call `model` on some inputs, it calls `forward` on those inputs.  Note that we are sending a 2-D array here, with the first dimension being the number of example models, and the second dimension being the size of an individual model.  The output is a distribution over True/False for each example.\n",
    "\n",
    "(While we could have had only one output node, since $p(False) = 1 - p(True)$, it's useful to treat this as a two-way classification task, to be more in line with classification tasks with more than two classes.)"
   ]
  },
  {
   "cell_type": "code",
   "execution_count": 12,
   "metadata": {},
   "outputs": [
    {
     "data": {
      "text/plain": [
       "tensor([[0.4810, 0.5190],\n",
       "        [0.4780, 0.5220],\n",
       "        [0.4888, 0.5112],\n",
       "        ...,\n",
       "        [0.4900, 0.5100],\n",
       "        [0.5301, 0.4699],\n",
       "        [0.4933, 0.5067]], grad_fn=<SoftmaxBackward>)"
      ]
     },
     "execution_count": 12,
     "metadata": {},
     "output_type": "execute_result"
    }
   ],
   "source": [
    "model(train_models)"
   ]
  },
  {
   "cell_type": "markdown",
   "metadata": {},
   "source": [
    "We can now define the main training loop!  It's relatively straight-forward: get the training and test data, build the model, loop over epochs and mini-batches, performing one update for each mini-batch.\n",
    "\n",
    "The update works like this in PyTorch: you instantiate an `optimizer`, with the parameters of your model.  Each mini-batch, you call `zero_grad` on the optimizer, in order to clear out its previous gradient computation.  After computing the loss, you can then compute all the gradients of all the parameters in the model by `loss.backward()`.  Note that here `loss` can be any `torch.Tensor` object!  Then, you simply call `opt.step()` to update the parameters!\n",
    "\n",
    "We will also record some simple data during training so that we can visualize it.  This can also give you a feel for how you can store variables of interest while training a model."
   ]
  },
  {
   "cell_type": "code",
   "execution_count": 13,
   "metadata": {},
   "outputs": [],
   "source": [
    "# TODO: \n",
    "# * install pandas, plotnine\n",
    "# * record data, plot learning curves\n",
    "\n",
    "def train(params, quantifier):\n",
    "    \n",
    "    # get the data\n",
    "    train_models, train_labels, test_models, test_labels = get_data(\n",
    "        params['model_size'],\n",
    "        quantifier\n",
    "    )\n",
    "    \n",
    "    # get the model\n",
    "    model = FFNN(params['model_size'], 2)  # 2 outputs: False/True\n",
    "    \n",
    "    # get an optimizer\n",
    "    opt = torch.optim.Adam(model.parameters())\n",
    "    num_batches = int(len(train_models) / params['batch_size'])\n",
    "\n",
    "    for epoch in range(params['num_epochs']):\n",
    "        # shuffle the training data each epoch\n",
    "        train_models, train_labels = shuffle_data(train_models, train_labels)\n",
    "        model.train()  # for our model, this has no effect, but is good practice\n",
    "\n",
    "        # individual training steps!\n",
    "        for batch_idx in range(num_batches):\n",
    "            # batch the data\n",
    "            batch_models = train_models[batch_idx*params['batch_size']:(batch_idx+1)*params['batch_size']]\n",
    "            batch_labels = train_labels[batch_idx*params['batch_size']:(batch_idx+1)*params['batch_size']]\n",
    "\n",
    "            # get model's output\n",
    "            model_probs = model(batch_models)  # calls .forward\n",
    "\n",
    "            # zero the gradients\n",
    "            opt.zero_grad()\n",
    "            # calculate loss\n",
    "            loss = F.cross_entropy(model_probs,\n",
    "                                   torch.as_tensor(batch_labels))\n",
    "            loss.backward()  # computes the gradients!\n",
    "            opt.step()  # updates the parameters\n",
    "            \n",
    "            # get overall batch num for convenience\n",
    "            batch_num = epoch*num_batches + batch_idx + 1\n",
    "            if (batch_num + 1) % params['eval_every'] == 0:\n",
    "                with torch.no_grad():  # speeds things up\n",
    "                    model.eval()  # again, no effect on our model, but good practice\n",
    "                    model_probs = model(test_models).numpy()\n",
    "                    model_predictions = model_probs.argmax(axis=1).flatten()\n",
    "                    # 1 if correct prediction, 0 otherwise\n",
    "                    correct = (model_predictions == test_labels).astype(int)\n",
    "                    print('Test set accuracy, after batch {}: {}'.format(\n",
    "                        batch_num+1,\n",
    "                        sum(correct) / len(correct)\n",
    "                    ))\n",
    "                model.train()"
   ]
  },
  {
   "cell_type": "code",
   "execution_count": 14,
   "metadata": {},
   "outputs": [
    {
     "name": "stdout",
     "output_type": "stream",
     "text": [
      "Test set accuracy, after batch 20: 0.4283607141040639\n",
      "Test set accuracy, after batch 40: 0.5860332638217791\n",
      "Test set accuracy, after batch 60: 0.5998168963938763\n",
      "Test set accuracy, after batch 80: 0.5998168963938763\n",
      "Test set accuracy, after batch 100: 0.5998168963938763\n",
      "Test set accuracy, after batch 120: 0.5998168963938763\n",
      "Test set accuracy, after batch 140: 0.5998168963938763\n",
      "Test set accuracy, after batch 160: 0.5998168963938763\n",
      "Test set accuracy, after batch 180: 0.5998168963938763\n",
      "Test set accuracy, after batch 200: 0.5998168963938763\n",
      "Test set accuracy, after batch 220: 0.5998168963938763\n",
      "Test set accuracy, after batch 240: 0.6049539697879049\n",
      "Test set accuracy, after batch 260: 0.7299730430802096\n",
      "Test set accuracy, after batch 280: 0.8218808809317939\n",
      "Test set accuracy, after batch 300: 0.8207619144499263\n",
      "Test set accuracy, after batch 320: 0.8768628248817456\n",
      "Test set accuracy, after batch 340: 0.9058033670718681\n",
      "Test set accuracy, after batch 360: 0.9210111388027059\n",
      "Test set accuracy, after batch 380: 0.9053456080565586\n",
      "Test set accuracy, after batch 400: 0.8985809470525405\n",
      "Test set accuracy, after batch 420: 0.9246732109251818\n",
      "Test set accuracy, after batch 440: 0.9283861451604699\n",
      "Test set accuracy, after batch 460: 0.9387620161741519\n",
      "Test set accuracy, after batch 480: 0.9418137429428819\n",
      "Test set accuracy, after batch 500: 0.9508163369106353\n",
      "Test set accuracy, after batch 520: 0.9606327246833833\n",
      "Test set accuracy, after batch 540: 0.9516809928284421\n",
      "Test set accuracy, after batch 560: 0.962056863842124\n",
      "Test set accuracy, after batch 580: 0.9612430700371294\n",
      "Test set accuracy, after batch 600: 0.9668379024464676\n",
      "Test set accuracy, after batch 620: 0.9730939423223641\n",
      "Test set accuracy, after batch 640: 0.9332689079904379\n",
      "Test set accuracy, after batch 660: 0.9723818727429937\n",
      "Test set accuracy, after batch 680: 0.9753318752860994\n",
      "Test set accuracy, after batch 700: 0.9734499771120493\n",
      "Test set accuracy, after batch 720: 0.9745689435939169\n",
      "Test set accuracy, after batch 740: 0.9624128986318091\n",
      "Test set accuracy, after batch 760: 0.9837241239001068\n",
      "Test set accuracy, after batch 780: 0.9844361934794771\n",
      "Test set accuracy, after batch 800: 0.9866741264432124\n",
      "Test set accuracy, after batch 820: 0.9865724022175881\n",
      "Test set accuracy, after batch 840: 0.9908956818066222\n",
      "Test set accuracy, after batch 860: 0.9799094654391943\n",
      "Test set accuracy, after batch 880: 0.9902344743400641\n",
      "Test set accuracy, after batch 900: 0.9704999745689435\n",
      "Test set accuracy, after batch 920: 0.9917603377244291\n",
      "Test set accuracy, after batch 940: 0.9896749910991303\n",
      "Test set accuracy, after batch 960: 0.9893189563094451\n",
      "Test set accuracy, after batch 980: 0.9949646508315956\n",
      "Test set accuracy, after batch 1000: 0.995727582523778\n",
      "Test set accuracy, after batch 1020: 0.9961344794262754\n",
      "Test set accuracy, after batch 1040: 0.9964905142159606\n",
      "Test set accuracy, after batch 1060: 0.9934387874472306\n",
      "Test set accuracy, after batch 1080: 0.9973551701337674\n",
      "Test set accuracy, after batch 1100: 0.9978637912618891\n",
      "Test set accuracy, after batch 1120: 0.9984232745028229\n",
      "Test set accuracy, after batch 1140: 0.9985758608412594\n",
      "Test set accuracy, after batch 1160: 0.9989827577437567\n",
      "Test set accuracy, after batch 1180: 0.9990336198565688\n",
      "Test set accuracy, after batch 1200: 0.9992879304206297\n",
      "Test set accuracy, after batch 1220: 0.9992879304206297\n",
      "Test set accuracy, after batch 1240: 0.9994405167590662\n",
      "Test set accuracy, after batch 1260: 0.9994913788718783\n",
      "Test set accuracy, after batch 1280: 0.9995422409846905\n",
      "Test set accuracy, after batch 1300: 0.9989318956309445\n",
      "Test set accuracy, after batch 1320: 0.9997965515487514\n",
      "Test set accuracy, after batch 1340: 0.9998474136615635\n",
      "Test set accuracy, after batch 1360: 0.9989318956309445\n",
      "Test set accuracy, after batch 1380: 0.9996439652103148\n",
      "Test set accuracy, after batch 1400: 0.9997456894359392\n",
      "Test set accuracy, after batch 1420: 0.9996439652103148\n",
      "Test set accuracy, after batch 1440: 0.9996439652103148\n",
      "Test set accuracy, after batch 1460: 0.9997965515487514\n",
      "Test set accuracy, after batch 1480: 0.9997965515487514\n",
      "Test set accuracy, after batch 1500: 1.0\n",
      "Test set accuracy, after batch 1520: 1.0\n",
      "Test set accuracy, after batch 1540: 1.0\n",
      "Test set accuracy, after batch 1560: 0.9999491378871879\n",
      "Test set accuracy, after batch 1580: 1.0\n",
      "Test set accuracy, after batch 1600: 1.0\n",
      "Test set accuracy, after batch 1620: 1.0\n",
      "Test set accuracy, after batch 1640: 0.9999491378871879\n",
      "Test set accuracy, after batch 1660: 1.0\n",
      "Test set accuracy, after batch 1680: 0.9999491378871879\n",
      "Test set accuracy, after batch 1700: 1.0\n",
      "Test set accuracy, after batch 1720: 1.0\n",
      "Test set accuracy, after batch 1740: 1.0\n",
      "Test set accuracy, after batch 1760: 1.0\n",
      "Test set accuracy, after batch 1780: 1.0\n",
      "Test set accuracy, after batch 1800: 1.0\n",
      "Test set accuracy, after batch 1820: 1.0\n",
      "Test set accuracy, after batch 1840: 1.0\n",
      "Test set accuracy, after batch 1860: 1.0\n",
      "Test set accuracy, after batch 1880: 1.0\n",
      "Test set accuracy, after batch 1900: 1.0\n",
      "Test set accuracy, after batch 1920: 1.0\n",
      "Test set accuracy, after batch 1940: 1.0\n",
      "Test set accuracy, after batch 1960: 1.0\n",
      "Test set accuracy, after batch 1980: 1.0\n",
      "Test set accuracy, after batch 2000: 1.0\n",
      "Test set accuracy, after batch 2020: 1.0\n",
      "Test set accuracy, after batch 2040: 1.0\n",
      "Test set accuracy, after batch 2060: 1.0\n",
      "Test set accuracy, after batch 2080: 1.0\n",
      "Test set accuracy, after batch 2100: 1.0\n",
      "Test set accuracy, after batch 2120: 1.0\n",
      "Test set accuracy, after batch 2140: 1.0\n",
      "Test set accuracy, after batch 2160: 1.0\n",
      "Test set accuracy, after batch 2180: 1.0\n",
      "Test set accuracy, after batch 2200: 1.0\n",
      "Test set accuracy, after batch 2220: 1.0\n",
      "Test set accuracy, after batch 2240: 1.0\n",
      "Test set accuracy, after batch 2260: 1.0\n",
      "Test set accuracy, after batch 2280: 1.0\n",
      "Test set accuracy, after batch 2300: 1.0\n",
      "Test set accuracy, after batch 2320: 1.0\n",
      "Test set accuracy, after batch 2340: 1.0\n",
      "Test set accuracy, after batch 2360: 1.0\n",
      "Test set accuracy, after batch 2380: 1.0\n",
      "Test set accuracy, after batch 2400: 1.0\n",
      "Test set accuracy, after batch 2420: 1.0\n",
      "Test set accuracy, after batch 2440: 1.0\n",
      "Test set accuracy, after batch 2460: 1.0\n",
      "Test set accuracy, after batch 2480: 1.0\n",
      "Test set accuracy, after batch 2500: 1.0\n",
      "Test set accuracy, after batch 2520: 1.0\n",
      "Test set accuracy, after batch 2540: 1.0\n",
      "Test set accuracy, after batch 2560: 1.0\n",
      "Test set accuracy, after batch 2580: 1.0\n",
      "Test set accuracy, after batch 2600: 1.0\n",
      "Test set accuracy, after batch 2620: 1.0\n",
      "Test set accuracy, after batch 2640: 1.0\n",
      "Test set accuracy, after batch 2660: 1.0\n",
      "Test set accuracy, after batch 2680: 1.0\n",
      "Test set accuracy, after batch 2700: 1.0\n",
      "Test set accuracy, after batch 2720: 1.0\n",
      "Test set accuracy, after batch 2740: 1.0\n",
      "Test set accuracy, after batch 2760: 1.0\n",
      "Test set accuracy, after batch 2780: 1.0\n",
      "Test set accuracy, after batch 2800: 1.0\n",
      "Test set accuracy, after batch 2820: 1.0\n",
      "Test set accuracy, after batch 2840: 1.0\n",
      "Test set accuracy, after batch 2860: 1.0\n"
     ]
    }
   ],
   "source": [
    "train(params, most)"
   ]
  },
  {
   "cell_type": "code",
   "execution_count": 15,
   "metadata": {},
   "outputs": [
    {
     "name": "stdout",
     "output_type": "stream",
     "text": [
      "Test set accuracy, after batch 20: 0.49300645948832716\n",
      "Test set accuracy, after batch 40: 0.4995168099282844\n",
      "Test set accuracy, after batch 60: 0.4835969686180764\n",
      "Test set accuracy, after batch 80: 0.4849702456640049\n",
      "Test set accuracy, after batch 100: 0.4757642032450028\n",
      "Test set accuracy, after batch 120: 0.5059254361426173\n",
      "Test set accuracy, after batch 140: 0.5289151111337165\n",
      "Test set accuracy, after batch 160: 0.49646508315955445\n",
      "Test set accuracy, after batch 180: 0.5944763745485987\n",
      "Test set accuracy, after batch 200: 0.5467168506179747\n",
      "Test set accuracy, after batch 220: 0.5613651391078786\n",
      "Test set accuracy, after batch 240: 0.6385738263567469\n",
      "Test set accuracy, after batch 260: 0.677788515334927\n",
      "Test set accuracy, after batch 280: 0.6417272773511011\n",
      "Test set accuracy, after batch 300: 0.7617110014750013\n",
      "Test set accuracy, after batch 320: 0.75275926962006\n",
      "Test set accuracy, after batch 340: 0.7703066985402574\n",
      "Test set accuracy, after batch 360: 0.8037231066578505\n",
      "Test set accuracy, after batch 380: 0.8276282996795686\n",
      "Test set accuracy, after batch 400: 0.8423274502822847\n",
      "Test set accuracy, after batch 420: 0.8216265703677331\n",
      "Test set accuracy, after batch 440: 0.8471593509994405\n",
      "Test set accuracy, after batch 460: 0.8477696963531866\n",
      "Test set accuracy, after batch 480: 0.8571283251106251\n",
      "Test set accuracy, after batch 500: 0.8632826407608972\n",
      "Test set accuracy, after batch 520: 0.8648593662580744\n",
      "Test set accuracy, after batch 540: 0.8775240323483038\n",
      "Test set accuracy, after batch 560: 0.8789481715070444\n",
      "Test set accuracy, after batch 580: 0.8700473017649153\n",
      "Test set accuracy, after batch 600: 0.8747266161436346\n",
      "Test set accuracy, after batch 620: 0.8870352474441788\n",
      "Test set accuracy, after batch 640: 0.8874421443466761\n",
      "Test set accuracy, after batch 660: 0.8806266212298459\n",
      "Test set accuracy, after batch 680: 0.888611972941356\n",
      "Test set accuracy, after batch 700: 0.8780835155892376\n",
      "Test set accuracy, after batch 720: 0.885255073495753\n",
      "Test set accuracy, after batch 740: 0.8914093891460251\n",
      "Test set accuracy, after batch 760: 0.8932404252072631\n",
      "Test set accuracy, after batch 780: 0.8812369665835919\n",
      "Test set accuracy, after batch 800: 0.8903412847769696\n",
      "Test set accuracy, after batch 820: 0.890748181679467\n",
      "Test set accuracy, after batch 840: 0.8922231829510198\n",
      "Test set accuracy, after batch 860: 0.8838817964498246\n",
      "Test set accuracy, after batch 880: 0.8907990437922791\n",
      "Test set accuracy, after batch 900: 0.8947662885916281\n",
      "Test set accuracy, after batch 920: 0.8949188749300646\n",
      "Test set accuracy, after batch 940: 0.8951223233813133\n",
      "Test set accuracy, after batch 960: 0.8933930115456996\n",
      "Test set accuracy, after batch 980: 0.8948171507044402\n",
      "Test set accuracy, after batch 1000: 0.8947662885916281\n",
      "Test set accuracy, after batch 1020: 0.8950205991556889\n",
      "Test set accuracy, after batch 1040: 0.8950714612685011\n",
      "Test set accuracy, after batch 1060: 0.8939016326738213\n",
      "Test set accuracy, after batch 1080: 0.8941050811250699\n",
      "Test set accuracy, after batch 1100: 0.8952749097197498\n",
      "Test set accuracy, after batch 1120: 0.8936473221097604\n",
      "Test set accuracy, after batch 1140: 0.8952749097197498\n",
      "Test set accuracy, after batch 1160: 0.8952749097197498\n",
      "Test set accuracy, after batch 1180: 0.8952749097197498\n",
      "Test set accuracy, after batch 1200: 0.8952749097197498\n",
      "Test set accuracy, after batch 1220: 0.8952749097197498\n",
      "Test set accuracy, after batch 1240: 0.8952749097197498\n",
      "Test set accuracy, after batch 1260: 0.8952240476069376\n",
      "Test set accuracy, after batch 1280: 0.8952240476069376\n",
      "Test set accuracy, after batch 1300: 0.8952240476069376\n",
      "Test set accuracy, after batch 1320: 0.8952749097197498\n",
      "Test set accuracy, after batch 1340: 0.8952749097197498\n",
      "Test set accuracy, after batch 1360: 0.8952749097197498\n",
      "Test set accuracy, after batch 1380: 0.8951731854941254\n",
      "Test set accuracy, after batch 1400: 0.8954783581709984\n",
      "Test set accuracy, after batch 1420: 0.8970042215553634\n",
      "Test set accuracy, after batch 1440: 0.9031585372056355\n",
      "Test set accuracy, after batch 1460: 0.9186714816133462\n",
      "Test set accuracy, after batch 1480: 0.9234525202176899\n",
      "Test set accuracy, after batch 1500: 0.928080972483597\n",
      "Test set accuracy, after batch 1520: 0.9299120085448349\n",
      "Test set accuracy, after batch 1540: 0.9432887442144346\n",
      "Test set accuracy, after batch 1560: 0.9456792635166065\n",
      "Test set accuracy, after batch 1580: 0.9617008290524388\n",
      "Test set accuracy, after batch 1600: 0.9653629011749149\n",
      "Test set accuracy, after batch 1620: 0.9766034281064035\n",
      "Test set accuracy, after batch 1640: 0.9715172168251869\n",
      "Test set accuracy, after batch 1660: 0.9810792940338742\n",
      "Test set accuracy, after batch 1680: 0.9754844616245358\n",
      "Test set accuracy, after batch 1700: 0.9880474034891409\n",
      "Test set accuracy, after batch 1720: 0.9927775799806724\n",
      "Test set accuracy, after batch 1740: 0.9979146533747012\n",
      "Test set accuracy, after batch 1760: 0.9915568892731804\n",
      "Test set accuracy, after batch 1780: 0.999694827323127\n",
      "Test set accuracy, after batch 1800: 0.9951172371700321\n",
      "Test set accuracy, after batch 1820: 0.9973551701337674\n",
      "Test set accuracy, after batch 1840: 0.9983215502771985\n",
      "Test set accuracy, after batch 1860: 0.9997965515487514\n",
      "Test set accuracy, after batch 1880: 0.9997965515487514\n",
      "Test set accuracy, after batch 1900: 0.9999491378871879\n",
      "Test set accuracy, after batch 1920: 0.9999491378871879\n",
      "Test set accuracy, after batch 1940: 0.9998982757743756\n",
      "Test set accuracy, after batch 1960: 0.9998982757743756\n",
      "Test set accuracy, after batch 1980: 1.0\n",
      "Test set accuracy, after batch 2000: 1.0\n",
      "Test set accuracy, after batch 2020: 1.0\n",
      "Test set accuracy, after batch 2040: 0.9999491378871879\n",
      "Test set accuracy, after batch 2060: 1.0\n",
      "Test set accuracy, after batch 2080: 1.0\n",
      "Test set accuracy, after batch 2100: 1.0\n",
      "Test set accuracy, after batch 2120: 1.0\n",
      "Test set accuracy, after batch 2140: 1.0\n",
      "Test set accuracy, after batch 2160: 1.0\n",
      "Test set accuracy, after batch 2180: 1.0\n",
      "Test set accuracy, after batch 2200: 1.0\n",
      "Test set accuracy, after batch 2220: 1.0\n",
      "Test set accuracy, after batch 2240: 1.0\n",
      "Test set accuracy, after batch 2260: 1.0\n",
      "Test set accuracy, after batch 2280: 1.0\n",
      "Test set accuracy, after batch 2300: 1.0\n",
      "Test set accuracy, after batch 2320: 1.0\n",
      "Test set accuracy, after batch 2340: 1.0\n",
      "Test set accuracy, after batch 2360: 1.0\n",
      "Test set accuracy, after batch 2380: 1.0\n",
      "Test set accuracy, after batch 2400: 1.0\n",
      "Test set accuracy, after batch 2420: 1.0\n",
      "Test set accuracy, after batch 2440: 1.0\n",
      "Test set accuracy, after batch 2460: 1.0\n",
      "Test set accuracy, after batch 2480: 1.0\n",
      "Test set accuracy, after batch 2500: 1.0\n",
      "Test set accuracy, after batch 2520: 1.0\n",
      "Test set accuracy, after batch 2540: 1.0\n",
      "Test set accuracy, after batch 2560: 1.0\n",
      "Test set accuracy, after batch 2580: 1.0\n",
      "Test set accuracy, after batch 2600: 1.0\n",
      "Test set accuracy, after batch 2620: 1.0\n",
      "Test set accuracy, after batch 2640: 1.0\n",
      "Test set accuracy, after batch 2660: 1.0\n",
      "Test set accuracy, after batch 2680: 1.0\n",
      "Test set accuracy, after batch 2700: 1.0\n",
      "Test set accuracy, after batch 2720: 1.0\n",
      "Test set accuracy, after batch 2740: 1.0\n",
      "Test set accuracy, after batch 2760: 1.0\n",
      "Test set accuracy, after batch 2780: 1.0\n",
      "Test set accuracy, after batch 2800: 1.0\n",
      "Test set accuracy, after batch 2820: 1.0\n",
      "Test set accuracy, after batch 2840: 1.0\n",
      "Test set accuracy, after batch 2860: 1.0\n"
     ]
    }
   ],
   "source": [
    "train(params, lambda model: between_m_n(model, 5, 9))"
   ]
  },
  {
   "cell_type": "markdown",
   "metadata": {},
   "source": [
    "## Next Steps and Exercises"
   ]
  },
  {
   "cell_type": "markdown",
   "metadata": {},
   "source": [
    "Very cool! It looks like the monotone quantifier is easier to learn than the non-monotone one.\n",
    "\n",
    "Here are some ideas for things that you can do to continue to develop your skills with these tools:\n",
    "\n",
    "1. Define more quantifiers, test them.\n",
    "2. Make sure the training data is balanced.\n",
    "3. Record data across trials, perform a statistical test to see whether one quantifier is learned faster than another.\n",
    "4. Parameterize the network architecture, instead of hard-coding it in `__init__`.\n",
    "5. Do a hyper-parameter search.\n",
    "6. Modify the network (and data generation) so that it learns _multiple_ quantifiers at once.  HINT: you can assign the quantifiers IDs and pass them into `forward`."
   ]
  }
 ],
 "metadata": {
  "kernelspec": {
   "display_name": "Python 3",
   "language": "python",
   "name": "python3"
  },
  "language_info": {
   "codemirror_mode": {
    "name": "ipython",
    "version": 3
   },
   "file_extension": ".py",
   "mimetype": "text/x-python",
   "name": "python",
   "nbconvert_exporter": "python",
   "pygments_lexer": "ipython3",
   "version": "3.7.2"
  }
 },
 "nbformat": 4,
 "nbformat_minor": 2
}

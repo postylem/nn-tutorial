{
 "cells": [
  {
   "cell_type": "code",
   "execution_count": null,
   "metadata": {},
   "outputs": [],
   "source": []
  },
  {
   "cell_type": "markdown",
   "metadata": {},
   "source": [
    "### 0. Import Libraries"
   ]
  },
  {
   "cell_type": "code",
   "execution_count": 1,
   "metadata": {},
   "outputs": [],
   "source": [
    "import itertools\n",
    "import numpy as np\n",
    "import torch\n",
    "import torch.nn as nn\n",
    "import torch.nn.functional as F"
   ]
  },
  {
   "cell_type": "markdown",
   "metadata": {},
   "source": [
    "### 1. Define Parameters"
   ]
  },
  {
   "cell_type": "code",
   "execution_count": 2,
   "metadata": {},
   "outputs": [],
   "source": [
    "params = {\n",
    "    'model_size': 16,  # how big our models will be\n",
    "    'num_epochs': 2,  # one epoch = one loop through the dataset\n",
    "    'batch_size': 32,  # size of one batch of training examples\n",
    "    'eval_every': 20,  # frequency of evaluations, in # of batches\n",
    "}"
   ]
  },
  {
   "cell_type": "markdown",
   "metadata": {},
   "source": [
    "### 2. Generating the Data"
   ]
  },
  {
   "cell_type": "code",
   "execution_count": 3,
   "metadata": {},
   "outputs": [
    {
     "data": {
      "text/plain": [
       "array([[0, 0, 0],\n",
       "       [0, 0, 1],\n",
       "       [0, 1, 0],\n",
       "       [0, 1, 1],\n",
       "       [1, 0, 0],\n",
       "       [1, 0, 1],\n",
       "       [1, 1, 0],\n",
       "       [1, 1, 1]])"
      ]
     },
     "execution_count": 3,
     "metadata": {},
     "output_type": "execute_result"
    }
   ],
   "source": [
    "def get_all_models(length):\n",
    "    return np.array(list(\n",
    "        itertools.product([0, 1], repeat=length)\n",
    "    ))\n",
    "\n",
    "get_all_models(3)"
   ]
  },
  {
   "cell_type": "code",
   "execution_count": 4,
   "metadata": {},
   "outputs": [
    {
     "data": {
      "text/plain": [
       "array([0, 0, 0, 1, 0, 1, 1, 1])"
      ]
     },
     "execution_count": 4,
     "metadata": {},
     "output_type": "execute_result"
    }
   ],
   "source": [
    "def most(model):\n",
    "    return int(sum(model) > 0.5*len(model))  # integers are useful later\n",
    "\n",
    "def batch_apply(models, quantifier):\n",
    "    \"\"\"Applies quantifier function to 2-D array of models,\n",
    "    where each row corresponds to one model.\"\"\"\n",
    "    return np.apply_along_axis(quantifier, 1, models)\n",
    "\n",
    "batch_apply(get_all_models(3), most)"
   ]
  },
  {
   "cell_type": "code",
   "execution_count": 5,
   "metadata": {},
   "outputs": [],
   "source": [
    "def shuffle_data(models, labels):\n",
    "    \"\"\"Shuffles the order of an array of models and of labels.\"\"\"\n",
    "    assert len(models) == len(labels), \"models and labels must be of same length\"\n",
    "    permutation = np.random.permutation(len(models))\n",
    "    return models[permutation], labels[permutation]"
   ]
  },
  {
   "cell_type": "code",
   "execution_count": 6,
   "metadata": {},
   "outputs": [],
   "source": [
    "def get_data(model_size, quantifier, train_split=0.75, shuffle=True):\n",
    "    \"\"\"Gets training and test data for quantifier.\"\"\"\n",
    "    # get all models and labels\n",
    "    models = get_all_models(model_size)\n",
    "    labels = batch_apply(models, quantifier)\n",
    "    # shuffle them\n",
    "    if shuffle:\n",
    "        models, labels = shuffle_data(models, labels)\n",
    "    # split into train/test\n",
    "    split_index = int(len(models) * train_split)  # int returns floor / rounds down\n",
    "    train_models = models[:split_index]  # up to index, not including\n",
    "    train_labels = labels[:split_index]\n",
    "    test_models = models[split_index:]  # from index, including\n",
    "    test_labels = labels[split_index:]\n",
    "    return train_models, train_labels, test_models, test_labels"
   ]
  },
  {
   "cell_type": "code",
   "execution_count": 7,
   "metadata": {},
   "outputs": [
    {
     "data": {
      "text/plain": [
       "(array([False,  True]), array([  137, 65399]))"
      ]
     },
     "execution_count": 7,
     "metadata": {},
     "output_type": "execute_result"
    }
   ],
   "source": [
    "np.unique(batch_apply(get_all_models(16), lambda seq: sum(seq) >=3), return_counts=True)"
   ]
  },
  {
   "cell_type": "code",
   "execution_count": 8,
   "metadata": {},
   "outputs": [
    {
     "data": {
      "text/plain": [
       "(array([[1, 1, 1],\n",
       "        [0, 1, 1],\n",
       "        [1, 0, 0],\n",
       "        [1, 1, 0],\n",
       "        [1, 0, 1],\n",
       "        [0, 0, 1]]), array([1, 1, 0, 1, 1, 0]), array([[0, 0, 0],\n",
       "        [0, 1, 0]]), array([0, 0]))"
      ]
     },
     "execution_count": 8,
     "metadata": {},
     "output_type": "execute_result"
    }
   ],
   "source": [
    "get_data(3, most)"
   ]
  },
  {
   "cell_type": "markdown",
   "metadata": {},
   "source": [
    "### 3. Build Model"
   ]
  },
  {
   "cell_type": "code",
   "execution_count": 9,
   "metadata": {},
   "outputs": [],
   "source": [
    "class FFNN(nn.Module):  # all models in PyTorch extend nn.Module\n",
    "    \n",
    "    def __init__(self, input_size, output_size):\n",
    "        super(FFNN, self).__init__()\n",
    "        \n",
    "        self.layer1 = nn.Linear(input_size, 32)  # first hidden layer has 32 units\n",
    "        self.layer2 = nn.Linear(32, 32)  # as does second\n",
    "        self.output = nn.Linear(32, output_size)\n",
    "        \n",
    "    def forward(self, models):  # note: forward can take any number of arguments\n",
    "        x = torch.as_tensor(models, dtype=torch.float)\n",
    "        x = F.relu(self.layer1(x))\n",
    "        x = F.relu(self.layer2(x))\n",
    "        x = self.output(x)\n",
    "        return F.softmax(x, dim=1)  # softmax converts to a probability distribution"
   ]
  },
  {
   "cell_type": "markdown",
   "metadata": {},
   "source": [
    "### 4. Train Model"
   ]
  },
  {
   "cell_type": "code",
   "execution_count": 10,
   "metadata": {},
   "outputs": [],
   "source": [
    "# get the data\n",
    "train_models, train_labels, test_models, test_labels = get_data(\n",
    "    params['model_size'], most)\n",
    "# get the model\n",
    "model = FFNN(params['model_size'], 2)  # 2 outputs: False/True"
   ]
  },
  {
   "cell_type": "code",
   "execution_count": 11,
   "metadata": {},
   "outputs": [
    {
     "data": {
      "text/plain": [
       "FFNN(\n",
       "  (layer1): Linear(in_features=16, out_features=32, bias=True)\n",
       "  (layer2): Linear(in_features=32, out_features=32, bias=True)\n",
       "  (output): Linear(in_features=32, out_features=2, bias=True)\n",
       ")"
      ]
     },
     "execution_count": 11,
     "metadata": {},
     "output_type": "execute_result"
    }
   ],
   "source": [
    "model"
   ]
  },
  {
   "cell_type": "code",
   "execution_count": 12,
   "metadata": {},
   "outputs": [
    {
     "data": {
      "text/plain": [
       "tensor([[0.4879, 0.5121],\n",
       "        [0.4775, 0.5225],\n",
       "        [0.4724, 0.5276],\n",
       "        ...,\n",
       "        [0.5016, 0.4984],\n",
       "        [0.4793, 0.5207],\n",
       "        [0.4723, 0.5277]], grad_fn=<SoftmaxBackward>)"
      ]
     },
     "execution_count": 12,
     "metadata": {},
     "output_type": "execute_result"
    }
   ],
   "source": [
    "model(train_models)"
   ]
  },
  {
   "cell_type": "code",
   "execution_count": 13,
   "metadata": {},
   "outputs": [
    {
     "name": "stdout",
     "output_type": "stream",
     "text": [
      "Test set accuracy; after epoch 0, batch 20: 0.5694580078125\n",
      "Test set accuracy; after epoch 0, batch 40: 0.6025390625\n",
      "Test set accuracy; after epoch 0, batch 60: 0.6021728515625\n",
      "Test set accuracy; after epoch 0, batch 80: 0.67486572265625\n",
      "Test set accuracy; after epoch 0, batch 100: 0.73822021484375\n",
      "Test set accuracy; after epoch 0, batch 120: 0.852294921875\n",
      "Test set accuracy; after epoch 0, batch 140: 0.7327880859375\n",
      "Test set accuracy; after epoch 0, batch 160: 0.868896484375\n",
      "Test set accuracy; after epoch 0, batch 180: 0.8724365234375\n",
      "Test set accuracy; after epoch 0, batch 200: 0.9051513671875\n",
      "Test set accuracy; after epoch 0, batch 220: 0.9010009765625\n",
      "Test set accuracy; after epoch 0, batch 240: 0.90936279296875\n",
      "Test set accuracy; after epoch 0, batch 260: 0.9344482421875\n",
      "Test set accuracy; after epoch 0, batch 280: 0.9317626953125\n",
      "Test set accuracy; after epoch 0, batch 300: 0.94281005859375\n",
      "Test set accuracy; after epoch 0, batch 320: 0.95306396484375\n",
      "Test set accuracy; after epoch 0, batch 340: 0.958984375\n",
      "Test set accuracy; after epoch 0, batch 360: 0.95098876953125\n",
      "Test set accuracy; after epoch 0, batch 380: 0.958984375\n",
      "Test set accuracy; after epoch 0, batch 400: 0.968505859375\n",
      "Test set accuracy; after epoch 0, batch 420: 0.95562744140625\n",
      "Test set accuracy; after epoch 0, batch 440: 0.958740234375\n",
      "Test set accuracy; after epoch 0, batch 460: 0.9578857421875\n",
      "Test set accuracy; after epoch 0, batch 480: 0.9696044921875\n",
      "Test set accuracy; after epoch 0, batch 500: 0.97930908203125\n",
      "Test set accuracy; after epoch 0, batch 520: 0.9830322265625\n",
      "Test set accuracy; after epoch 0, batch 540: 0.976806640625\n",
      "Test set accuracy; after epoch 0, batch 560: 0.9796142578125\n",
      "Test set accuracy; after epoch 0, batch 580: 0.98040771484375\n",
      "Test set accuracy; after epoch 0, batch 600: 0.988037109375\n",
      "Test set accuracy; after epoch 0, batch 620: 0.96685791015625\n",
      "Test set accuracy; after epoch 0, batch 640: 0.9921875\n",
      "Test set accuracy; after epoch 0, batch 660: 0.99493408203125\n",
      "Test set accuracy; after epoch 0, batch 680: 0.9945068359375\n",
      "Test set accuracy; after epoch 0, batch 700: 0.9913330078125\n",
      "Test set accuracy; after epoch 0, batch 720: 0.99176025390625\n",
      "Test set accuracy; after epoch 0, batch 740: 0.98455810546875\n",
      "Test set accuracy; after epoch 0, batch 760: 0.99578857421875\n",
      "Test set accuracy; after epoch 0, batch 780: 0.994873046875\n",
      "Test set accuracy; after epoch 0, batch 800: 0.9969482421875\n",
      "Test set accuracy; after epoch 0, batch 820: 0.9970703125\n",
      "Test set accuracy; after epoch 0, batch 840: 0.99737548828125\n",
      "Test set accuracy; after epoch 0, batch 860: 0.99725341796875\n",
      "Test set accuracy; after epoch 0, batch 880: 0.99835205078125\n",
      "Test set accuracy; after epoch 0, batch 900: 0.9981689453125\n",
      "Test set accuracy; after epoch 0, batch 920: 0.99810791015625\n",
      "Test set accuracy; after epoch 0, batch 940: 0.99810791015625\n",
      "Test set accuracy; after epoch 0, batch 960: 0.99853515625\n",
      "Test set accuracy; after epoch 0, batch 980: 0.99749755859375\n",
      "Test set accuracy; after epoch 0, batch 1000: 0.9989013671875\n",
      "Test set accuracy; after epoch 0, batch 1020: 0.9971923828125\n",
      "Test set accuracy; after epoch 0, batch 1040: 0.99957275390625\n",
      "Test set accuracy; after epoch 0, batch 1060: 0.9993896484375\n",
      "Test set accuracy; after epoch 0, batch 1080: 0.9993896484375\n",
      "Test set accuracy; after epoch 0, batch 1100: 0.99786376953125\n",
      "Test set accuracy; after epoch 0, batch 1120: 0.9998779296875\n",
      "Test set accuracy; after epoch 0, batch 1140: 0.9998779296875\n",
      "Test set accuracy; after epoch 0, batch 1160: 0.9993896484375\n",
      "Test set accuracy; after epoch 0, batch 1180: 0.99945068359375\n",
      "Test set accuracy; after epoch 0, batch 1200: 0.99993896484375\n",
      "Test set accuracy; after epoch 0, batch 1220: 0.9991455078125\n",
      "Test set accuracy; after epoch 0, batch 1240: 0.99951171875\n",
      "Test set accuracy; after epoch 0, batch 1260: 0.99993896484375\n",
      "Test set accuracy; after epoch 0, batch 1280: 0.99908447265625\n",
      "Test set accuracy; after epoch 0, batch 1300: 0.99969482421875\n",
      "Test set accuracy; after epoch 0, batch 1320: 0.99981689453125\n",
      "Test set accuracy; after epoch 0, batch 1340: 0.99896240234375\n",
      "Test set accuracy; after epoch 0, batch 1360: 0.99993896484375\n",
      "Test set accuracy; after epoch 0, batch 1380: 0.999755859375\n",
      "Test set accuracy; after epoch 0, batch 1400: 1.0\n",
      "Test set accuracy; after epoch 0, batch 1420: 1.0\n",
      "Test set accuracy; after epoch 0, batch 1440: 0.9998779296875\n",
      "Test set accuracy; after epoch 0, batch 1460: 1.0\n",
      "Test set accuracy; after epoch 0, batch 1480: 0.99981689453125\n",
      "Test set accuracy; after epoch 0, batch 1500: 0.999755859375\n",
      "Test set accuracy; after epoch 0, batch 1520: 0.99993896484375\n",
      "Test set accuracy; after epoch 1, batch 20: 1.0\n",
      "Test set accuracy; after epoch 1, batch 40: 1.0\n",
      "Test set accuracy; after epoch 1, batch 60: 0.99993896484375\n",
      "Test set accuracy; after epoch 1, batch 80: 0.99969482421875\n",
      "Test set accuracy; after epoch 1, batch 100: 0.99993896484375\n",
      "Test set accuracy; after epoch 1, batch 120: 1.0\n",
      "Test set accuracy; after epoch 1, batch 140: 1.0\n",
      "Test set accuracy; after epoch 1, batch 160: 1.0\n",
      "Test set accuracy; after epoch 1, batch 180: 1.0\n",
      "Test set accuracy; after epoch 1, batch 200: 1.0\n",
      "Test set accuracy; after epoch 1, batch 220: 1.0\n",
      "Test set accuracy; after epoch 1, batch 240: 1.0\n",
      "Test set accuracy; after epoch 1, batch 260: 0.9998779296875\n",
      "Test set accuracy; after epoch 1, batch 280: 1.0\n",
      "Test set accuracy; after epoch 1, batch 300: 1.0\n",
      "Test set accuracy; after epoch 1, batch 320: 0.99993896484375\n",
      "Test set accuracy; after epoch 1, batch 340: 1.0\n",
      "Test set accuracy; after epoch 1, batch 360: 1.0\n",
      "Test set accuracy; after epoch 1, batch 380: 1.0\n",
      "Test set accuracy; after epoch 1, batch 400: 1.0\n",
      "Test set accuracy; after epoch 1, batch 420: 1.0\n",
      "Test set accuracy; after epoch 1, batch 440: 1.0\n",
      "Test set accuracy; after epoch 1, batch 460: 1.0\n",
      "Test set accuracy; after epoch 1, batch 480: 1.0\n",
      "Test set accuracy; after epoch 1, batch 500: 1.0\n",
      "Test set accuracy; after epoch 1, batch 520: 1.0\n",
      "Test set accuracy; after epoch 1, batch 540: 1.0\n",
      "Test set accuracy; after epoch 1, batch 560: 1.0\n",
      "Test set accuracy; after epoch 1, batch 580: 1.0\n",
      "Test set accuracy; after epoch 1, batch 600: 1.0\n",
      "Test set accuracy; after epoch 1, batch 620: 1.0\n",
      "Test set accuracy; after epoch 1, batch 640: 1.0\n",
      "Test set accuracy; after epoch 1, batch 660: 1.0\n",
      "Test set accuracy; after epoch 1, batch 680: 1.0\n",
      "Test set accuracy; after epoch 1, batch 700: 1.0\n",
      "Test set accuracy; after epoch 1, batch 720: 1.0\n",
      "Test set accuracy; after epoch 1, batch 740: 1.0\n",
      "Test set accuracy; after epoch 1, batch 760: 1.0\n",
      "Test set accuracy; after epoch 1, batch 780: 1.0\n",
      "Test set accuracy; after epoch 1, batch 800: 1.0\n",
      "Test set accuracy; after epoch 1, batch 820: 1.0\n",
      "Test set accuracy; after epoch 1, batch 840: 1.0\n",
      "Test set accuracy; after epoch 1, batch 860: 1.0\n",
      "Test set accuracy; after epoch 1, batch 880: 1.0\n",
      "Test set accuracy; after epoch 1, batch 900: 1.0\n",
      "Test set accuracy; after epoch 1, batch 920: 1.0\n",
      "Test set accuracy; after epoch 1, batch 940: 1.0\n",
      "Test set accuracy; after epoch 1, batch 960: 1.0\n",
      "Test set accuracy; after epoch 1, batch 980: 1.0\n",
      "Test set accuracy; after epoch 1, batch 1000: 1.0\n",
      "Test set accuracy; after epoch 1, batch 1020: 1.0\n",
      "Test set accuracy; after epoch 1, batch 1040: 1.0\n",
      "Test set accuracy; after epoch 1, batch 1060: 1.0\n",
      "Test set accuracy; after epoch 1, batch 1080: 1.0\n",
      "Test set accuracy; after epoch 1, batch 1100: 1.0\n",
      "Test set accuracy; after epoch 1, batch 1120: 1.0\n",
      "Test set accuracy; after epoch 1, batch 1140: 1.0\n",
      "Test set accuracy; after epoch 1, batch 1160: 1.0\n",
      "Test set accuracy; after epoch 1, batch 1180: 1.0\n",
      "Test set accuracy; after epoch 1, batch 1200: 1.0\n",
      "Test set accuracy; after epoch 1, batch 1220: 1.0\n",
      "Test set accuracy; after epoch 1, batch 1240: 1.0\n",
      "Test set accuracy; after epoch 1, batch 1260: 1.0\n",
      "Test set accuracy; after epoch 1, batch 1280: 1.0\n",
      "Test set accuracy; after epoch 1, batch 1300: 1.0\n",
      "Test set accuracy; after epoch 1, batch 1320: 1.0\n",
      "Test set accuracy; after epoch 1, batch 1340: 1.0\n",
      "Test set accuracy; after epoch 1, batch 1360: 1.0\n",
      "Test set accuracy; after epoch 1, batch 1380: 1.0\n",
      "Test set accuracy; after epoch 1, batch 1400: 1.0\n",
      "Test set accuracy; after epoch 1, batch 1420: 1.0\n",
      "Test set accuracy; after epoch 1, batch 1440: 1.0\n",
      "Test set accuracy; after epoch 1, batch 1460: 1.0\n",
      "Test set accuracy; after epoch 1, batch 1480: 1.0\n",
      "Test set accuracy; after epoch 1, batch 1500: 1.0\n",
      "Test set accuracy; after epoch 1, batch 1520: 1.0\n"
     ]
    }
   ],
   "source": [
    "num_batches = int(len(train_models) / params['batch_size'])\n",
    "# get an optimizer\n",
    "opt = torch.optim.Adam(model.parameters())\n",
    "\n",
    "for epoch in range(params['num_epochs']):\n",
    "    # shuffle the training data each epoch\n",
    "    train_models, train_labels = shuffle_data(train_models, train_labels)\n",
    "    model.train()  # for our model, this has no effect, but is good practice\n",
    "    \n",
    "    # individual training steps!\n",
    "    for batch_num in range(num_batches):\n",
    "        # batch the data\n",
    "        batch_models = train_models[batch_num*params['batch_size']:(batch_num+1)*params['batch_size']]\n",
    "        batch_labels = train_labels[batch_num*params['batch_size']:(batch_num+1)*params['batch_size']]\n",
    "        \n",
    "        # get model's output\n",
    "        model_probs = model(batch_models)  # calls .forward\n",
    "        \n",
    "        # zero the gradients\n",
    "        opt.zero_grad()\n",
    "        # calculate loss\n",
    "        loss = F.cross_entropy(model_probs,\n",
    "                               torch.as_tensor(batch_labels))\n",
    "        loss.backward()  # computes the gradients!\n",
    "        opt.step()  # updates the parameters\n",
    "        \n",
    "        if (batch_num + 1) % params['eval_every'] == 0:\n",
    "            with torch.no_grad():  # speeds things up\n",
    "                model.eval()  # again, no effect on our model, but good practice\n",
    "                model_probs = model(test_models).numpy()\n",
    "                model_predictions = model_probs.argmax(axis=1).flatten()\n",
    "                # 1 if correct prediction, 0 otherwise\n",
    "                correct = (model_predictions == test_labels).astype(int)\n",
    "                print('Test set accuracy; after epoch {}, batch {}: {}'.format(\n",
    "                    epoch, batch_num+1,\n",
    "                    sum(correct) / len(correct)\n",
    "                ))\n",
    "            model.train()"
   ]
  },
  {
   "cell_type": "code",
   "execution_count": null,
   "metadata": {},
   "outputs": [],
   "source": []
  }
 ],
 "metadata": {
  "kernelspec": {
   "display_name": "Python 3",
   "language": "python",
   "name": "python3"
  },
  "language_info": {
   "codemirror_mode": {
    "name": "ipython",
    "version": 3
   },
   "file_extension": ".py",
   "mimetype": "text/x-python",
   "name": "python",
   "nbconvert_exporter": "python",
   "pygments_lexer": "ipython3",
   "version": "3.7.2"
  }
 },
 "nbformat": 4,
 "nbformat_minor": 2
}
